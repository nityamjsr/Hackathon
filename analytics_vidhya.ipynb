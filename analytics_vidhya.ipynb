{
  "nbformat": 4,
  "nbformat_minor": 0,
  "metadata": {
    "colab": {
      "name": "analytics_vidhya.ipynb",
      "provenance": [],
      "collapsed_sections": [],
      "authorship_tag": "ABX9TyPH2PtYEeCRMbluTtqmDLD8",
      "include_colab_link": true
    },
    "kernelspec": {
      "display_name": "Python 3",
      "name": "python3"
    }
  },
  "cells": [
    {
      "cell_type": "markdown",
      "metadata": {
        "id": "view-in-github",
        "colab_type": "text"
      },
      "source": [
        "<a href=\"https://colab.research.google.com/github/nityamjsr/Hackathon/blob/main/analytics_vidhya.ipynb\" target=\"_parent\"><img src=\"https://colab.research.google.com/assets/colab-badge.svg\" alt=\"Open In Colab\"/></a>"
      ]
    },
    {
      "cell_type": "code",
      "metadata": {
        "id": "DXAJFOe8p6RS"
      },
      "source": [
        "import pandas as pd\r\n",
        "import numpy as np\r\n",
        "import matplotlib.pyplot as plt\r\n",
        "import seaborn as sns\r\n",
        "import pandas_profiling as pp\r\n",
        "from sklearn.preprocessing import StandardScaler\r\n",
        "from sklearn.preprocessing import LabelEncoder \r\n",
        "from sklearn.preprocessing import OneHotEncoder\r\n",
        "from sklearn.ensemble import RandomForestClassifier\r\n",
        "from sklearn.model_selection import train_test_split\r\n",
        "from sklearn.metrics import classification_report,confusion_matrix\r\n",
        "from sklearn.linear_model import LogisticRegression\r\n",
        "from sklearn.tree import DecisionTreeClassifier\r\n",
        "from sklearn.neighbors import KNeighborsClassifier\r\n",
        "from sklearn.ensemble import GradientBoostingClassifier,RandomForestClassifier\r\n",
        "from sklearn.preprocessing import MinMaxScaler\r\n",
        "from sklearn.model_selection import KFold\r\n",
        "from sklearn.model_selection import cross_val_score\r\n",
        "from xgboost.sklearn import XGBClassifier\r\n",
        "from statsmodels.stats.outliers_influence import variance_inflation_factor\r\n",
        "from sklearn import feature_selection"
      ],
      "execution_count": 5,
      "outputs": []
    },
    {
      "cell_type": "code",
      "metadata": {
        "colab": {
          "base_uri": "https://localhost:8080/",
          "height": 241
        },
        "id": "t6PabwhuqD-T",
        "outputId": "caa6cbb5-5dfe-4339-8e03-ee81b4c63f74"
      },
      "source": [
        "train=pd.read_csv('train.csv')\r\n",
        "test=pd.read_csv('test.csv')\r\n",
        "train.head(5)"
      ],
      "execution_count": 53,
      "outputs": [
        {
          "output_type": "execute_result",
          "data": {
            "text/html": [
              "<div>\n",
              "<style scoped>\n",
              "    .dataframe tbody tr th:only-of-type {\n",
              "        vertical-align: middle;\n",
              "    }\n",
              "\n",
              "    .dataframe tbody tr th {\n",
              "        vertical-align: top;\n",
              "    }\n",
              "\n",
              "    .dataframe thead th {\n",
              "        text-align: right;\n",
              "    }\n",
              "</style>\n",
              "<table border=\"1\" class=\"dataframe\">\n",
              "  <thead>\n",
              "    <tr style=\"text-align: right;\">\n",
              "      <th></th>\n",
              "      <th>ID</th>\n",
              "      <th>City_Code</th>\n",
              "      <th>Region_Code</th>\n",
              "      <th>Accomodation_Type</th>\n",
              "      <th>Reco_Insurance_Type</th>\n",
              "      <th>Upper_Age</th>\n",
              "      <th>Lower_Age</th>\n",
              "      <th>Is_Spouse</th>\n",
              "      <th>Health Indicator</th>\n",
              "      <th>Holding_Policy_Duration</th>\n",
              "      <th>Holding_Policy_Type</th>\n",
              "      <th>Reco_Policy_Cat</th>\n",
              "      <th>Reco_Policy_Premium</th>\n",
              "      <th>Response</th>\n",
              "    </tr>\n",
              "  </thead>\n",
              "  <tbody>\n",
              "    <tr>\n",
              "      <th>0</th>\n",
              "      <td>1</td>\n",
              "      <td>C3</td>\n",
              "      <td>3213</td>\n",
              "      <td>Rented</td>\n",
              "      <td>Individual</td>\n",
              "      <td>36</td>\n",
              "      <td>36</td>\n",
              "      <td>No</td>\n",
              "      <td>X1</td>\n",
              "      <td>14+</td>\n",
              "      <td>3.0</td>\n",
              "      <td>22</td>\n",
              "      <td>11628.0</td>\n",
              "      <td>0</td>\n",
              "    </tr>\n",
              "    <tr>\n",
              "      <th>1</th>\n",
              "      <td>2</td>\n",
              "      <td>C5</td>\n",
              "      <td>1117</td>\n",
              "      <td>Owned</td>\n",
              "      <td>Joint</td>\n",
              "      <td>75</td>\n",
              "      <td>22</td>\n",
              "      <td>No</td>\n",
              "      <td>X2</td>\n",
              "      <td>NaN</td>\n",
              "      <td>NaN</td>\n",
              "      <td>22</td>\n",
              "      <td>30510.0</td>\n",
              "      <td>0</td>\n",
              "    </tr>\n",
              "    <tr>\n",
              "      <th>2</th>\n",
              "      <td>3</td>\n",
              "      <td>C5</td>\n",
              "      <td>3732</td>\n",
              "      <td>Owned</td>\n",
              "      <td>Individual</td>\n",
              "      <td>32</td>\n",
              "      <td>32</td>\n",
              "      <td>No</td>\n",
              "      <td>NaN</td>\n",
              "      <td>1.0</td>\n",
              "      <td>1.0</td>\n",
              "      <td>19</td>\n",
              "      <td>7450.0</td>\n",
              "      <td>1</td>\n",
              "    </tr>\n",
              "    <tr>\n",
              "      <th>3</th>\n",
              "      <td>4</td>\n",
              "      <td>C24</td>\n",
              "      <td>4378</td>\n",
              "      <td>Owned</td>\n",
              "      <td>Joint</td>\n",
              "      <td>52</td>\n",
              "      <td>48</td>\n",
              "      <td>No</td>\n",
              "      <td>X1</td>\n",
              "      <td>14+</td>\n",
              "      <td>3.0</td>\n",
              "      <td>19</td>\n",
              "      <td>17780.0</td>\n",
              "      <td>0</td>\n",
              "    </tr>\n",
              "    <tr>\n",
              "      <th>4</th>\n",
              "      <td>5</td>\n",
              "      <td>C8</td>\n",
              "      <td>2190</td>\n",
              "      <td>Rented</td>\n",
              "      <td>Individual</td>\n",
              "      <td>44</td>\n",
              "      <td>44</td>\n",
              "      <td>No</td>\n",
              "      <td>X2</td>\n",
              "      <td>3.0</td>\n",
              "      <td>1.0</td>\n",
              "      <td>16</td>\n",
              "      <td>10404.0</td>\n",
              "      <td>0</td>\n",
              "    </tr>\n",
              "  </tbody>\n",
              "</table>\n",
              "</div>"
            ],
            "text/plain": [
              "   ID City_Code  Region_Code  ... Reco_Policy_Cat Reco_Policy_Premium  Response\n",
              "0   1        C3         3213  ...              22             11628.0         0\n",
              "1   2        C5         1117  ...              22             30510.0         0\n",
              "2   3        C5         3732  ...              19              7450.0         1\n",
              "3   4       C24         4378  ...              19             17780.0         0\n",
              "4   5        C8         2190  ...              16             10404.0         0\n",
              "\n",
              "[5 rows x 14 columns]"
            ]
          },
          "metadata": {
            "tags": []
          },
          "execution_count": 53
        }
      ]
    },
    {
      "cell_type": "code",
      "metadata": {
        "colab": {
          "base_uri": "https://localhost:8080/"
        },
        "id": "yBNBeEeEqusb",
        "outputId": "ae3163dc-de47-4ef7-f43b-b7886293c93f"
      },
      "source": [
        "train.columns"
      ],
      "execution_count": 7,
      "outputs": [
        {
          "output_type": "execute_result",
          "data": {
            "text/plain": [
              "Index(['ID', 'City_Code', 'Region_Code', 'Accomodation_Type',\n",
              "       'Reco_Insurance_Type', 'Upper_Age', 'Lower_Age', 'Is_Spouse',\n",
              "       'Health Indicator', 'Holding_Policy_Duration', 'Holding_Policy_Type',\n",
              "       'Reco_Policy_Cat', 'Reco_Policy_Premium', 'Response'],\n",
              "      dtype='object')"
            ]
          },
          "metadata": {
            "tags": []
          },
          "execution_count": 7
        }
      ]
    },
    {
      "cell_type": "code",
      "metadata": {
        "colab": {
          "base_uri": "https://localhost:8080/"
        },
        "id": "VgJuQiTdq_yh",
        "outputId": "bbeea3ce-39d2-42cf-c1bc-be286b879724"
      },
      "source": [
        "dic={}\r\n",
        "categorical_columns=[]\r\n",
        "numerical_columns=[]\r\n",
        "for i in train.columns:\r\n",
        "  dic[i]=train[i].dtypes\r\n",
        "  if (train[i].dtypes==object):\r\n",
        "    print(train[i].value_counts())\r\n",
        "    categorical_columns.append(i)\r\n",
        "  else:\r\n",
        "    numerical_columns.append(i)\r\n",
        "\r\n",
        "print(dic)"
      ],
      "execution_count": 8,
      "outputs": [
        {
          "output_type": "stream",
          "text": [
            "C1     8973\n",
            "C2     7747\n",
            "C3     4889\n",
            "C4     3671\n",
            "C9     2185\n",
            "C6     1950\n",
            "C7     1910\n",
            "C8     1806\n",
            "C10    1611\n",
            "C5     1364\n",
            "C15    1186\n",
            "C17    1159\n",
            "C11    1147\n",
            "C16    1135\n",
            "C13    1005\n",
            "C20     926\n",
            "C19     899\n",
            "C12     868\n",
            "C18     797\n",
            "C14     746\n",
            "C21     679\n",
            "C23     587\n",
            "C24     553\n",
            "C22     516\n",
            "C26     499\n",
            "C29     387\n",
            "C25     366\n",
            "C27     295\n",
            "C33     286\n",
            "C28     285\n",
            "C32     160\n",
            "C34     130\n",
            "C30      58\n",
            "C35      56\n",
            "C36      36\n",
            "C31      15\n",
            "Name: City_Code, dtype: int64\n",
            "Owned     27951\n",
            "Rented    22931\n",
            "Name: Accomodation_Type, dtype: int64\n",
            "Individual    40536\n",
            "Joint         10346\n",
            "Name: Reco_Insurance_Type, dtype: int64\n",
            "No     42460\n",
            "Yes     8422\n",
            "Name: Is_Spouse, dtype: int64\n",
            "X1    13010\n",
            "X2    10332\n",
            "X3     6762\n",
            "X4     5743\n",
            "X5     1727\n",
            "X6     1280\n",
            "X7      196\n",
            "X8       78\n",
            "X9       63\n",
            "Name: Health Indicator, dtype: int64\n",
            "1.0     4499\n",
            "14+     4335\n",
            "2.0     4260\n",
            "3.0     3586\n",
            "4.0     2771\n",
            "5.0     2362\n",
            "6.0     1894\n",
            "7.0     1645\n",
            "8.0     1316\n",
            "9.0     1114\n",
            "10.0     813\n",
            "11.0     546\n",
            "12.0     513\n",
            "13.0     511\n",
            "14.0     466\n",
            "Name: Holding_Policy_Duration, dtype: int64\n",
            "{'ID': dtype('int64'), 'City_Code': dtype('O'), 'Region_Code': dtype('int64'), 'Accomodation_Type': dtype('O'), 'Reco_Insurance_Type': dtype('O'), 'Upper_Age': dtype('int64'), 'Lower_Age': dtype('int64'), 'Is_Spouse': dtype('O'), 'Health Indicator': dtype('O'), 'Holding_Policy_Duration': dtype('O'), 'Holding_Policy_Type': dtype('float64'), 'Reco_Policy_Cat': dtype('int64'), 'Reco_Policy_Premium': dtype('float64'), 'Response': dtype('int64')}\n"
          ],
          "name": "stdout"
        }
      ]
    },
    {
      "cell_type": "code",
      "metadata": {
        "colab": {
          "base_uri": "https://localhost:8080/"
        },
        "id": "V4VztM2Irno3",
        "outputId": "13f0529c-337e-4305-90fd-797956567217"
      },
      "source": [
        "train.isnull().sum()"
      ],
      "execution_count": 9,
      "outputs": [
        {
          "output_type": "execute_result",
          "data": {
            "text/plain": [
              "ID                             0\n",
              "City_Code                      0\n",
              "Region_Code                    0\n",
              "Accomodation_Type              0\n",
              "Reco_Insurance_Type            0\n",
              "Upper_Age                      0\n",
              "Lower_Age                      0\n",
              "Is_Spouse                      0\n",
              "Health Indicator           11691\n",
              "Holding_Policy_Duration    20251\n",
              "Holding_Policy_Type        20251\n",
              "Reco_Policy_Cat                0\n",
              "Reco_Policy_Premium            0\n",
              "Response                       0\n",
              "dtype: int64"
            ]
          },
          "metadata": {
            "tags": []
          },
          "execution_count": 9
        }
      ]
    },
    {
      "cell_type": "code",
      "metadata": {
        "colab": {
          "base_uri": "https://localhost:8080/"
        },
        "id": "TqXNANPzN8Xz",
        "outputId": "77b78a98-467c-47fc-9259-17a36528fad0"
      },
      "source": [
        "print(numerical_columns)\r\n",
        "print(categorical_columns)"
      ],
      "execution_count": 10,
      "outputs": [
        {
          "output_type": "stream",
          "text": [
            "['ID', 'Region_Code', 'Upper_Age', 'Lower_Age', 'Holding_Policy_Type', 'Reco_Policy_Cat', 'Reco_Policy_Premium', 'Response']\n",
            "['City_Code', 'Accomodation_Type', 'Reco_Insurance_Type', 'Is_Spouse', 'Health Indicator', 'Holding_Policy_Duration']\n"
          ],
          "name": "stdout"
        }
      ]
    },
    {
      "cell_type": "code",
      "metadata": {
        "id": "IeqJCnzKv3Em"
      },
      "source": [
        "categorical_columns+=['Reco_Policy_Cat','Holding_Policy_Type','Response']\r\n",
        "for i in numerical_columns:\r\n",
        "  if i in categorical_columns:\r\n",
        "    numerical_columns.remove(i)"
      ],
      "execution_count": 11,
      "outputs": []
    },
    {
      "cell_type": "code",
      "metadata": {
        "colab": {
          "base_uri": "https://localhost:8080/"
        },
        "id": "HkkrJHOZxjxn",
        "outputId": "caff3e07-4f05-48b3-8e53-f8d17b0d4551"
      },
      "source": [
        "print(numerical_columns)\r\n",
        "print(categorical_columns)"
      ],
      "execution_count": 12,
      "outputs": [
        {
          "output_type": "stream",
          "text": [
            "['ID', 'Region_Code', 'Upper_Age', 'Lower_Age', 'Reco_Policy_Cat', 'Reco_Policy_Premium']\n",
            "['City_Code', 'Accomodation_Type', 'Reco_Insurance_Type', 'Is_Spouse', 'Health Indicator', 'Holding_Policy_Duration', 'Reco_Policy_Cat', 'Holding_Policy_Type', 'Response']\n"
          ],
          "name": "stdout"
        }
      ]
    },
    {
      "cell_type": "code",
      "metadata": {
        "id": "MIgooDh10RfE"
      },
      "source": [
        "for i in numerical_columns:\r\n",
        "  if i in categorical_columns:\r\n",
        "    numerical_columns.remove(i)"
      ],
      "execution_count": 13,
      "outputs": []
    },
    {
      "cell_type": "code",
      "metadata": {
        "id": "UOynnxLKR89P"
      },
      "source": [
        "def CategoricalVariables_targetPlots(df, segment_by,invert_axis = False, target_var = \"Response\"):\r\n",
        "    \r\n",
        "    \"\"\"A function for Plotting the effect of variables(categorical data) on attrition \"\"\"\r\n",
        "    \r\n",
        "    fig, ax = plt.subplots(ncols= 2, figsize = (14,6))\r\n",
        "    \r\n",
        "    #countplot for distribution along with target variable\r\n",
        "    #invert axis variable helps to inter change the axis so that names of categories doesn't overlap\r\n",
        "    if invert_axis == False:\r\n",
        "        sns.countplot(x = segment_by, data=df,hue=\"Response\",ax=ax[0])\r\n",
        "    else:\r\n",
        "        sns.countplot(y = segment_by, data=df,hue=\"Response\",ax=ax[0])\r\n",
        "        \r\n",
        "    ax[0].set_title(\"Comparision of \" + segment_by + \" vs \" + \"Response\")\r\n",
        "    \r\n",
        "    #plot the effect of variable on attrition\r\n",
        "    if invert_axis == False:\r\n",
        "        sns.barplot(x = segment_by, y = target_var ,data=df,ci=None)\r\n",
        "    else:\r\n",
        "        sns.barplot(y = segment_by, x = target_var ,data=df,ci=None)\r\n",
        "        \r\n",
        "    ax[1].set_title(\"Hired rate by {}\".format(segment_by))\r\n",
        "    ax[1].set_ylabel(\"Average(Response)\")\r\n",
        "    plt.tight_layout()\r\n",
        "\r\n",
        "    plt.show()"
      ],
      "execution_count": 14,
      "outputs": []
    },
    {
      "cell_type": "code",
      "metadata": {
        "colab": {
          "base_uri": "https://localhost:8080/",
          "height": 1000
        },
        "id": "uGLeK69OSTKS",
        "outputId": "da76485d-e4b7-4a3e-bb93-7c3fceff2a5c"
      },
      "source": [
        "for i in categorical_columns:\r\n",
        "  CategoricalVariables_targetPlots(train,segment_by=i)"
      ],
      "execution_count": 15,
      "outputs": [
        {
          "output_type": "display_data",
          "data": {
            "image/png": "[encoded data removed]",
            "text/plain": [
              "<Figure size 1008x432 with 2 Axes>"
            ]
          },
          "metadata": {
            "tags": [],
            "needs_background": "light"
          }
        },
        {
          "output_type": "display_data",
          "data": {
            "image/png": "[encoded data removed]",
            "text/plain": [
              "<Figure size 1008x432 with 2 Axes>"
            ]
          },
          "metadata": {
            "tags": [],
            "needs_background": "light"
          }
        },
        {
          "output_type": "display_data",
          "data": {
            "image/png": "[encoded data removed]",
            "text/plain": [
              "<Figure size 1008x432 with 2 Axes>"
            ]
          },
          "metadata": {
            "tags": [],
            "needs_background": "light"
          }
        },
        {
          "output_type": "display_data",
          "data": {
            "image/png": "[encoded data removed]",
            "text/plain": [
              "<Figure size 1008x432 with 2 Axes>"
            ]
          },
          "metadata": {
            "tags": [],
            "needs_background": "light"
          }
        },
        {
          "output_type": "display_data",
          "data": {
            "image/png": "[encoded data removed]",
            "text/plain": [
              "<Figure size 1008x432 with 2 Axes>"
            ]
          },
          "metadata": {
            "tags": [],
            "needs_background": "light"
          }
        },
        {
          "output_type": "display_data",
          "data": {
            "image/png": "[encoded data removed]",
            "text/plain": [
              "<Figure size 1008x432 with 2 Axes>"
            ]
          },
          "metadata": {
            "tags": [],
            "needs_background": "light"
          }
        },
        {
          "output_type": "display_data",
          "data": {
            "image/png": "[encoded data removed]",
            "text/plain": [
              "<Figure size 1008x432 with 2 Axes>"
            ]
          },
          "metadata": {
            "tags": [],
            "needs_background": "light"
          }
        },
        {
          "output_type": "display_data",
          "data": {
            "image/png": "[encoded data removed]",
            "text/plain": [
              "<Figure size 1008x432 with 2 Axes>"
            ]
          },
          "metadata": {
            "tags": [],
            "needs_background": "light"
          }
        },
        {
          "output_type": "display_data",
          "data": {
            "image/png": "[encoded data removed]",
            "text/plain": [
              "<Figure size 1008x432 with 2 Axes>"
            ]
          },
          "metadata": {
            "tags": [],
            "needs_background": "light"
          }
        }
      ]
    },
    {
      "cell_type": "code",
      "metadata": {
        "id": "g2i2WZiPSl3N"
      },
      "source": [
        "for i in numerical_columns:\r\n",
        "  train[i].fillna(train[i].median(),inplace = True)\r\n",
        "# categorical_coloumns col\r\n",
        "for i in categorical_columns:\r\n",
        "  train[i].fillna(train[i].mode()[0],inplace = True)"
      ],
      "execution_count": 16,
      "outputs": []
    },
    {
      "cell_type": "code",
      "metadata": {
        "colab": {
          "base_uri": "https://localhost:8080/",
          "height": 241
        },
        "id": "dekMVWM6fFjJ",
        "outputId": "05defc6f-15dc-4c99-a6b3-9500500593b6"
      },
      "source": [
        "train_individual=pd.DataFrame()\r\n",
        "train_joint=train.loc[train['Reco_Insurance_Type']=='Joint']\r\n",
        "train_individual=train.loc[train['Reco_Insurance_Type']=='Individual']\r\n",
        "train_individual.head()"
      ],
      "execution_count": 17,
      "outputs": [
        {
          "output_type": "execute_result",
          "data": {
            "text/html": [
              "<div>\n",
              "<style scoped>\n",
              "    .dataframe tbody tr th:only-of-type {\n",
              "        vertical-align: middle;\n",
              "    }\n",
              "\n",
              "    .dataframe tbody tr th {\n",
              "        vertical-align: top;\n",
              "    }\n",
              "\n",
              "    .dataframe thead th {\n",
              "        text-align: right;\n",
              "    }\n",
              "</style>\n",
              "<table border=\"1\" class=\"dataframe\">\n",
              "  <thead>\n",
              "    <tr style=\"text-align: right;\">\n",
              "      <th></th>\n",
              "      <th>ID</th>\n",
              "      <th>City_Code</th>\n",
              "      <th>Region_Code</th>\n",
              "      <th>Accomodation_Type</th>\n",
              "      <th>Reco_Insurance_Type</th>\n",
              "      <th>Upper_Age</th>\n",
              "      <th>Lower_Age</th>\n",
              "      <th>Is_Spouse</th>\n",
              "      <th>Health Indicator</th>\n",
              "      <th>Holding_Policy_Duration</th>\n",
              "      <th>Holding_Policy_Type</th>\n",
              "      <th>Reco_Policy_Cat</th>\n",
              "      <th>Reco_Policy_Premium</th>\n",
              "      <th>Response</th>\n",
              "    </tr>\n",
              "  </thead>\n",
              "  <tbody>\n",
              "    <tr>\n",
              "      <th>0</th>\n",
              "      <td>1</td>\n",
              "      <td>C3</td>\n",
              "      <td>3213</td>\n",
              "      <td>Rented</td>\n",
              "      <td>Individual</td>\n",
              "      <td>36</td>\n",
              "      <td>36</td>\n",
              "      <td>No</td>\n",
              "      <td>X1</td>\n",
              "      <td>14+</td>\n",
              "      <td>3.0</td>\n",
              "      <td>22</td>\n",
              "      <td>11628.0</td>\n",
              "      <td>0</td>\n",
              "    </tr>\n",
              "    <tr>\n",
              "      <th>2</th>\n",
              "      <td>3</td>\n",
              "      <td>C5</td>\n",
              "      <td>3732</td>\n",
              "      <td>Owned</td>\n",
              "      <td>Individual</td>\n",
              "      <td>32</td>\n",
              "      <td>32</td>\n",
              "      <td>No</td>\n",
              "      <td>X1</td>\n",
              "      <td>1.0</td>\n",
              "      <td>1.0</td>\n",
              "      <td>19</td>\n",
              "      <td>7450.0</td>\n",
              "      <td>1</td>\n",
              "    </tr>\n",
              "    <tr>\n",
              "      <th>4</th>\n",
              "      <td>5</td>\n",
              "      <td>C8</td>\n",
              "      <td>2190</td>\n",
              "      <td>Rented</td>\n",
              "      <td>Individual</td>\n",
              "      <td>44</td>\n",
              "      <td>44</td>\n",
              "      <td>No</td>\n",
              "      <td>X2</td>\n",
              "      <td>3.0</td>\n",
              "      <td>1.0</td>\n",
              "      <td>16</td>\n",
              "      <td>10404.0</td>\n",
              "      <td>0</td>\n",
              "    </tr>\n",
              "    <tr>\n",
              "      <th>5</th>\n",
              "      <td>6</td>\n",
              "      <td>C9</td>\n",
              "      <td>1785</td>\n",
              "      <td>Rented</td>\n",
              "      <td>Individual</td>\n",
              "      <td>52</td>\n",
              "      <td>52</td>\n",
              "      <td>No</td>\n",
              "      <td>X2</td>\n",
              "      <td>5.0</td>\n",
              "      <td>1.0</td>\n",
              "      <td>22</td>\n",
              "      <td>15264.0</td>\n",
              "      <td>1</td>\n",
              "    </tr>\n",
              "    <tr>\n",
              "      <th>6</th>\n",
              "      <td>7</td>\n",
              "      <td>C3</td>\n",
              "      <td>679</td>\n",
              "      <td>Owned</td>\n",
              "      <td>Individual</td>\n",
              "      <td>28</td>\n",
              "      <td>28</td>\n",
              "      <td>No</td>\n",
              "      <td>X1</td>\n",
              "      <td>1.0</td>\n",
              "      <td>3.0</td>\n",
              "      <td>17</td>\n",
              "      <td>10640.0</td>\n",
              "      <td>0</td>\n",
              "    </tr>\n",
              "  </tbody>\n",
              "</table>\n",
              "</div>"
            ],
            "text/plain": [
              "   ID City_Code  Region_Code  ... Reco_Policy_Cat Reco_Policy_Premium  Response\n",
              "0   1        C3         3213  ...              22             11628.0         0\n",
              "2   3        C5         3732  ...              19              7450.0         1\n",
              "4   5        C8         2190  ...              16             10404.0         0\n",
              "5   6        C9         1785  ...              22             15264.0         1\n",
              "6   7        C3          679  ...              17             10640.0         0\n",
              "\n",
              "[5 rows x 14 columns]"
            ]
          },
          "metadata": {
            "tags": []
          },
          "execution_count": 17
        }
      ]
    },
    {
      "cell_type": "code",
      "metadata": {
        "colab": {
          "base_uri": "https://localhost:8080/"
        },
        "id": "ZbipSkB-fUsA",
        "outputId": "1df9576a-6acd-48a7-d6a3-5bbe48b16f6e"
      },
      "source": [
        "train_joint=train_joint.drop(['ID','City_Code','Reco_Insurance_Type'],axis=1)\r\n",
        "train_individual=train_individual.drop(['ID','City_Code','Reco_Insurance_Type','Upper_Age','Is_Spouse'],axis=1)\r\n",
        "print(train_individual.head())\r\n",
        "print(train_joint.head())"
      ],
      "execution_count": 18,
      "outputs": [
        {
          "output_type": "stream",
          "text": [
            "   Region_Code Accomodation_Type  ...  Reco_Policy_Premium Response\n",
            "0         3213            Rented  ...              11628.0        0\n",
            "2         3732             Owned  ...               7450.0        1\n",
            "4         2190            Rented  ...              10404.0        0\n",
            "5         1785            Rented  ...              15264.0        1\n",
            "6          679             Owned  ...              10640.0        0\n",
            "\n",
            "[5 rows x 9 columns]\n",
            "   Region_Code Accomodation_Type  ...  Reco_Policy_Premium  Response\n",
            "1         1117             Owned  ...              30510.0         0\n",
            "3         4378             Owned  ...              17780.0         0\n",
            "7         3175             Owned  ...              29344.0         1\n",
            "8         3497             Owned  ...              27283.2         0\n",
            "9          530             Owned  ...              21100.8         1\n",
            "\n",
            "[5 rows x 11 columns]\n"
          ],
          "name": "stdout"
        }
      ]
    },
    {
      "cell_type": "code",
      "metadata": {
        "id": "NA_vZ_slVQOQ"
      },
      "source": [
        "def label_encoders(raw_data_clean):\r\n",
        "  label_encoder = LabelEncoder() \r\n",
        "  for i in raw_data_clean.columns:\r\n",
        "    if i in categorical_columns:\r\n",
        "      raw_data_clean[i]= label_encoder.fit_transform(raw_data_clean[i])\r\n",
        "  return(raw_data_clean)\r\n",
        "  "
      ],
      "execution_count": 19,
      "outputs": []
    },
    {
      "cell_type": "code",
      "metadata": {
        "id": "oJS0XX6FVsVm"
      },
      "source": [
        "train_individual_enc=label_encoders(train_individual)\r\n",
        "train_joint_enc=label_encoders(train_joint)"
      ],
      "execution_count": 20,
      "outputs": []
    },
    {
      "cell_type": "code",
      "metadata": {
        "colab": {
          "base_uri": "https://localhost:8080/",
          "height": 241
        },
        "id": "NvQKZDE3jJaW",
        "outputId": "d4601ba0-19a4-4d10-fb5b-a7d520b3e6c7"
      },
      "source": [
        "train_individual_enc.head()"
      ],
      "execution_count": 21,
      "outputs": [
        {
          "output_type": "execute_result",
          "data": {
            "text/html": [
              "<div>\n",
              "<style scoped>\n",
              "    .dataframe tbody tr th:only-of-type {\n",
              "        vertical-align: middle;\n",
              "    }\n",
              "\n",
              "    .dataframe tbody tr th {\n",
              "        vertical-align: top;\n",
              "    }\n",
              "\n",
              "    .dataframe thead th {\n",
              "        text-align: right;\n",
              "    }\n",
              "</style>\n",
              "<table border=\"1\" class=\"dataframe\">\n",
              "  <thead>\n",
              "    <tr style=\"text-align: right;\">\n",
              "      <th></th>\n",
              "      <th>Region_Code</th>\n",
              "      <th>Accomodation_Type</th>\n",
              "      <th>Lower_Age</th>\n",
              "      <th>Health Indicator</th>\n",
              "      <th>Holding_Policy_Duration</th>\n",
              "      <th>Holding_Policy_Type</th>\n",
              "      <th>Reco_Policy_Cat</th>\n",
              "      <th>Reco_Policy_Premium</th>\n",
              "      <th>Response</th>\n",
              "    </tr>\n",
              "  </thead>\n",
              "  <tbody>\n",
              "    <tr>\n",
              "      <th>0</th>\n",
              "      <td>3213</td>\n",
              "      <td>1</td>\n",
              "      <td>36</td>\n",
              "      <td>0</td>\n",
              "      <td>5</td>\n",
              "      <td>2</td>\n",
              "      <td>21</td>\n",
              "      <td>11628.0</td>\n",
              "      <td>0</td>\n",
              "    </tr>\n",
              "    <tr>\n",
              "      <th>2</th>\n",
              "      <td>3732</td>\n",
              "      <td>0</td>\n",
              "      <td>32</td>\n",
              "      <td>0</td>\n",
              "      <td>0</td>\n",
              "      <td>0</td>\n",
              "      <td>18</td>\n",
              "      <td>7450.0</td>\n",
              "      <td>1</td>\n",
              "    </tr>\n",
              "    <tr>\n",
              "      <th>4</th>\n",
              "      <td>2190</td>\n",
              "      <td>1</td>\n",
              "      <td>44</td>\n",
              "      <td>1</td>\n",
              "      <td>8</td>\n",
              "      <td>0</td>\n",
              "      <td>15</td>\n",
              "      <td>10404.0</td>\n",
              "      <td>0</td>\n",
              "    </tr>\n",
              "    <tr>\n",
              "      <th>5</th>\n",
              "      <td>1785</td>\n",
              "      <td>1</td>\n",
              "      <td>52</td>\n",
              "      <td>1</td>\n",
              "      <td>10</td>\n",
              "      <td>0</td>\n",
              "      <td>21</td>\n",
              "      <td>15264.0</td>\n",
              "      <td>1</td>\n",
              "    </tr>\n",
              "    <tr>\n",
              "      <th>6</th>\n",
              "      <td>679</td>\n",
              "      <td>0</td>\n",
              "      <td>28</td>\n",
              "      <td>0</td>\n",
              "      <td>0</td>\n",
              "      <td>2</td>\n",
              "      <td>16</td>\n",
              "      <td>10640.0</td>\n",
              "      <td>0</td>\n",
              "    </tr>\n",
              "  </tbody>\n",
              "</table>\n",
              "</div>"
            ],
            "text/plain": [
              "   Region_Code  Accomodation_Type  ...  Reco_Policy_Premium  Response\n",
              "0         3213                  1  ...              11628.0         0\n",
              "2         3732                  0  ...               7450.0         1\n",
              "4         2190                  1  ...              10404.0         0\n",
              "5         1785                  1  ...              15264.0         1\n",
              "6          679                  0  ...              10640.0         0\n",
              "\n",
              "[5 rows x 9 columns]"
            ]
          },
          "metadata": {
            "tags": []
          },
          "execution_count": 21
        }
      ]
    },
    {
      "cell_type": "code",
      "metadata": {
        "colab": {
          "base_uri": "https://localhost:8080/"
        },
        "id": "Bgp6vtzvV9U2",
        "outputId": "63c50571-7dc7-44f8-c815-f1d44b1bb22f"
      },
      "source": [
        "# VIF dataframe \r\n",
        "vif_data_joint = pd.DataFrame() \r\n",
        "vif_data_individual= pd.DataFrame() \r\n",
        "vif_data_joint[\"feature\"] = train_joint_enc.columns \r\n",
        "vif_data_individual['feature']=train_individual_enc.columns\r\n",
        "# calculating VIF for each feature \r\n",
        "vif_data_joint[\"VIF\"] = [variance_inflation_factor(train_joint_enc.values, i) \r\n",
        "                          for i in range(len(train_joint_enc.columns))] \r\n",
        "vif_data_individual[\"VIF\"] = [variance_inflation_factor(train_individual_enc.values, i) \r\n",
        "                          for i in range(len(train_individual_enc.columns))] \r\n",
        "  \r\n",
        "print(vif_data_joint)\r\n",
        "print(vif_data_individual)"
      ],
      "execution_count": 22,
      "outputs": [
        {
          "output_type": "stream",
          "text": [
            "                    feature        VIF\n",
            "0               Region_Code   2.314222\n",
            "1         Accomodation_Type   1.313360\n",
            "2                 Upper_Age  58.249337\n",
            "3                 Lower_Age  18.954817\n",
            "4                 Is_Spouse   5.952599\n",
            "5          Health Indicator   1.675773\n",
            "6   Holding_Policy_Duration   2.041185\n",
            "7       Holding_Policy_Type   4.849875\n",
            "8           Reco_Policy_Cat   5.637484\n",
            "9       Reco_Policy_Premium  35.334051\n",
            "10                 Response   1.345563\n",
            "                   feature        VIF\n",
            "0              Region_Code   2.337280\n",
            "1        Accomodation_Type   1.873598\n",
            "2                Lower_Age  30.540317\n",
            "3         Health Indicator   1.576363\n",
            "4  Holding_Policy_Duration   1.933149\n",
            "5      Holding_Policy_Type   4.190612\n",
            "6          Reco_Policy_Cat   5.026239\n",
            "7      Reco_Policy_Premium  30.262736\n",
            "8                 Response   1.324374\n"
          ],
          "name": "stdout"
        }
      ]
    },
    {
      "cell_type": "code",
      "metadata": {
        "colab": {
          "base_uri": "https://localhost:8080/",
          "height": 285
        },
        "id": "swIGDVVfb9b2",
        "outputId": "d0139481-ad02-43f0-b4f5-9d4601fba22e"
      },
      "source": [
        "plt.plot(train_joint_enc['Reco_Policy_Premium'])"
      ],
      "execution_count": 23,
      "outputs": [
        {
          "output_type": "execute_result",
          "data": {
            "text/plain": [
              "[<matplotlib.lines.Line2D at 0x7f1f866fcfd0>]"
            ]
          },
          "metadata": {
            "tags": []
          },
          "execution_count": 23
        },
        {
          "output_type": "display_data",
          "data": {
            "image/png": "[encoded data removed]",
            "text/plain": [
              "<Figure size 432x288 with 1 Axes>"
            ]
          },
          "metadata": {
            "tags": [],
            "needs_background": "light"
          }
        }
      ]
    },
    {
      "cell_type": "code",
      "metadata": {
        "colab": {
          "base_uri": "https://localhost:8080/"
        },
        "id": "rZebmD8ZcAbh",
        "outputId": "d57a4a80-f5ff-495e-ddb0-ed49208f20d1"
      },
      "source": [
        "print(train.shape)"
      ],
      "execution_count": 24,
      "outputs": [
        {
          "output_type": "stream",
          "text": [
            "(50882, 14)\n"
          ],
          "name": "stdout"
        }
      ]
    },
    {
      "cell_type": "code",
      "metadata": {
        "colab": {
          "base_uri": "https://localhost:8080/",
          "height": 241
        },
        "id": "zR87CIpxtWTl",
        "outputId": "b90e7349-7632-40df-dd58-bc7a13acf30a"
      },
      "source": [
        "train_joint_enc.head()"
      ],
      "execution_count": 25,
      "outputs": [
        {
          "output_type": "execute_result",
          "data": {
            "text/html": [
              "<div>\n",
              "<style scoped>\n",
              "    .dataframe tbody tr th:only-of-type {\n",
              "        vertical-align: middle;\n",
              "    }\n",
              "\n",
              "    .dataframe tbody tr th {\n",
              "        vertical-align: top;\n",
              "    }\n",
              "\n",
              "    .dataframe thead th {\n",
              "        text-align: right;\n",
              "    }\n",
              "</style>\n",
              "<table border=\"1\" class=\"dataframe\">\n",
              "  <thead>\n",
              "    <tr style=\"text-align: right;\">\n",
              "      <th></th>\n",
              "      <th>Region_Code</th>\n",
              "      <th>Accomodation_Type</th>\n",
              "      <th>Upper_Age</th>\n",
              "      <th>Lower_Age</th>\n",
              "      <th>Is_Spouse</th>\n",
              "      <th>Health Indicator</th>\n",
              "      <th>Holding_Policy_Duration</th>\n",
              "      <th>Holding_Policy_Type</th>\n",
              "      <th>Reco_Policy_Cat</th>\n",
              "      <th>Reco_Policy_Premium</th>\n",
              "      <th>Response</th>\n",
              "    </tr>\n",
              "  </thead>\n",
              "  <tbody>\n",
              "    <tr>\n",
              "      <th>1</th>\n",
              "      <td>1117</td>\n",
              "      <td>0</td>\n",
              "      <td>75</td>\n",
              "      <td>22</td>\n",
              "      <td>0</td>\n",
              "      <td>1</td>\n",
              "      <td>0</td>\n",
              "      <td>2</td>\n",
              "      <td>21</td>\n",
              "      <td>30510.0</td>\n",
              "      <td>0</td>\n",
              "    </tr>\n",
              "    <tr>\n",
              "      <th>3</th>\n",
              "      <td>4378</td>\n",
              "      <td>0</td>\n",
              "      <td>52</td>\n",
              "      <td>48</td>\n",
              "      <td>0</td>\n",
              "      <td>0</td>\n",
              "      <td>5</td>\n",
              "      <td>2</td>\n",
              "      <td>18</td>\n",
              "      <td>17780.0</td>\n",
              "      <td>0</td>\n",
              "    </tr>\n",
              "    <tr>\n",
              "      <th>7</th>\n",
              "      <td>3175</td>\n",
              "      <td>0</td>\n",
              "      <td>75</td>\n",
              "      <td>73</td>\n",
              "      <td>1</td>\n",
              "      <td>3</td>\n",
              "      <td>14</td>\n",
              "      <td>3</td>\n",
              "      <td>16</td>\n",
              "      <td>29344.0</td>\n",
              "      <td>1</td>\n",
              "    </tr>\n",
              "    <tr>\n",
              "      <th>8</th>\n",
              "      <td>3497</td>\n",
              "      <td>0</td>\n",
              "      <td>52</td>\n",
              "      <td>43</td>\n",
              "      <td>0</td>\n",
              "      <td>0</td>\n",
              "      <td>6</td>\n",
              "      <td>2</td>\n",
              "      <td>0</td>\n",
              "      <td>27283.2</td>\n",
              "      <td>0</td>\n",
              "    </tr>\n",
              "    <tr>\n",
              "      <th>9</th>\n",
              "      <td>530</td>\n",
              "      <td>0</td>\n",
              "      <td>59</td>\n",
              "      <td>26</td>\n",
              "      <td>1</td>\n",
              "      <td>0</td>\n",
              "      <td>12</td>\n",
              "      <td>3</td>\n",
              "      <td>17</td>\n",
              "      <td>21100.8</td>\n",
              "      <td>1</td>\n",
              "    </tr>\n",
              "  </tbody>\n",
              "</table>\n",
              "</div>"
            ],
            "text/plain": [
              "   Region_Code  Accomodation_Type  ...  Reco_Policy_Premium  Response\n",
              "1         1117                  0  ...              30510.0         0\n",
              "3         4378                  0  ...              17780.0         0\n",
              "7         3175                  0  ...              29344.0         1\n",
              "8         3497                  0  ...              27283.2         0\n",
              "9          530                  0  ...              21100.8         1\n",
              "\n",
              "[5 rows x 11 columns]"
            ]
          },
          "metadata": {
            "tags": []
          },
          "execution_count": 25
        }
      ]
    },
    {
      "cell_type": "code",
      "metadata": {
        "colab": {
          "base_uri": "https://localhost:8080/",
          "height": 241
        },
        "id": "OlsXzb9eyoQ4",
        "outputId": "a65fd19f-cbdd-4119-d9df-c1095b30ea30"
      },
      "source": [
        "train_individual_enc_dropped=train_individual_enc.drop(['Region_Code'],axis=1)\r\n",
        "train_individual_enc_dropped.head()"
      ],
      "execution_count": 26,
      "outputs": [
        {
          "output_type": "execute_result",
          "data": {
            "text/html": [
              "<div>\n",
              "<style scoped>\n",
              "    .dataframe tbody tr th:only-of-type {\n",
              "        vertical-align: middle;\n",
              "    }\n",
              "\n",
              "    .dataframe tbody tr th {\n",
              "        vertical-align: top;\n",
              "    }\n",
              "\n",
              "    .dataframe thead th {\n",
              "        text-align: right;\n",
              "    }\n",
              "</style>\n",
              "<table border=\"1\" class=\"dataframe\">\n",
              "  <thead>\n",
              "    <tr style=\"text-align: right;\">\n",
              "      <th></th>\n",
              "      <th>Accomodation_Type</th>\n",
              "      <th>Lower_Age</th>\n",
              "      <th>Health Indicator</th>\n",
              "      <th>Holding_Policy_Duration</th>\n",
              "      <th>Holding_Policy_Type</th>\n",
              "      <th>Reco_Policy_Cat</th>\n",
              "      <th>Reco_Policy_Premium</th>\n",
              "      <th>Response</th>\n",
              "    </tr>\n",
              "  </thead>\n",
              "  <tbody>\n",
              "    <tr>\n",
              "      <th>0</th>\n",
              "      <td>1</td>\n",
              "      <td>36</td>\n",
              "      <td>0</td>\n",
              "      <td>5</td>\n",
              "      <td>2</td>\n",
              "      <td>21</td>\n",
              "      <td>11628.0</td>\n",
              "      <td>0</td>\n",
              "    </tr>\n",
              "    <tr>\n",
              "      <th>2</th>\n",
              "      <td>0</td>\n",
              "      <td>32</td>\n",
              "      <td>0</td>\n",
              "      <td>0</td>\n",
              "      <td>0</td>\n",
              "      <td>18</td>\n",
              "      <td>7450.0</td>\n",
              "      <td>1</td>\n",
              "    </tr>\n",
              "    <tr>\n",
              "      <th>4</th>\n",
              "      <td>1</td>\n",
              "      <td>44</td>\n",
              "      <td>1</td>\n",
              "      <td>8</td>\n",
              "      <td>0</td>\n",
              "      <td>15</td>\n",
              "      <td>10404.0</td>\n",
              "      <td>0</td>\n",
              "    </tr>\n",
              "    <tr>\n",
              "      <th>5</th>\n",
              "      <td>1</td>\n",
              "      <td>52</td>\n",
              "      <td>1</td>\n",
              "      <td>10</td>\n",
              "      <td>0</td>\n",
              "      <td>21</td>\n",
              "      <td>15264.0</td>\n",
              "      <td>1</td>\n",
              "    </tr>\n",
              "    <tr>\n",
              "      <th>6</th>\n",
              "      <td>0</td>\n",
              "      <td>28</td>\n",
              "      <td>0</td>\n",
              "      <td>0</td>\n",
              "      <td>2</td>\n",
              "      <td>16</td>\n",
              "      <td>10640.0</td>\n",
              "      <td>0</td>\n",
              "    </tr>\n",
              "  </tbody>\n",
              "</table>\n",
              "</div>"
            ],
            "text/plain": [
              "   Accomodation_Type  Lower_Age  ...  Reco_Policy_Premium  Response\n",
              "0                  1         36  ...              11628.0         0\n",
              "2                  0         32  ...               7450.0         1\n",
              "4                  1         44  ...              10404.0         0\n",
              "5                  1         52  ...              15264.0         1\n",
              "6                  0         28  ...              10640.0         0\n",
              "\n",
              "[5 rows x 8 columns]"
            ]
          },
          "metadata": {
            "tags": []
          },
          "execution_count": 26
        }
      ]
    },
    {
      "cell_type": "code",
      "metadata": {
        "colab": {
          "base_uri": "https://localhost:8080/",
          "height": 241
        },
        "id": "yWutlLhqgGor",
        "outputId": "5cdfc9ee-7101-49ad-c47c-0984bcc2071f"
      },
      "source": [
        "train_joint_enc_dropped=train_joint_enc.drop(['Region_Code'],axis=1)\r\n",
        "train_joint_enc_dropped.head()"
      ],
      "execution_count": 27,
      "outputs": [
        {
          "output_type": "execute_result",
          "data": {
            "text/html": [
              "<div>\n",
              "<style scoped>\n",
              "    .dataframe tbody tr th:only-of-type {\n",
              "        vertical-align: middle;\n",
              "    }\n",
              "\n",
              "    .dataframe tbody tr th {\n",
              "        vertical-align: top;\n",
              "    }\n",
              "\n",
              "    .dataframe thead th {\n",
              "        text-align: right;\n",
              "    }\n",
              "</style>\n",
              "<table border=\"1\" class=\"dataframe\">\n",
              "  <thead>\n",
              "    <tr style=\"text-align: right;\">\n",
              "      <th></th>\n",
              "      <th>Accomodation_Type</th>\n",
              "      <th>Upper_Age</th>\n",
              "      <th>Lower_Age</th>\n",
              "      <th>Is_Spouse</th>\n",
              "      <th>Health Indicator</th>\n",
              "      <th>Holding_Policy_Duration</th>\n",
              "      <th>Holding_Policy_Type</th>\n",
              "      <th>Reco_Policy_Cat</th>\n",
              "      <th>Reco_Policy_Premium</th>\n",
              "      <th>Response</th>\n",
              "    </tr>\n",
              "  </thead>\n",
              "  <tbody>\n",
              "    <tr>\n",
              "      <th>1</th>\n",
              "      <td>0</td>\n",
              "      <td>75</td>\n",
              "      <td>22</td>\n",
              "      <td>0</td>\n",
              "      <td>1</td>\n",
              "      <td>0</td>\n",
              "      <td>2</td>\n",
              "      <td>21</td>\n",
              "      <td>30510.0</td>\n",
              "      <td>0</td>\n",
              "    </tr>\n",
              "    <tr>\n",
              "      <th>3</th>\n",
              "      <td>0</td>\n",
              "      <td>52</td>\n",
              "      <td>48</td>\n",
              "      <td>0</td>\n",
              "      <td>0</td>\n",
              "      <td>5</td>\n",
              "      <td>2</td>\n",
              "      <td>18</td>\n",
              "      <td>17780.0</td>\n",
              "      <td>0</td>\n",
              "    </tr>\n",
              "    <tr>\n",
              "      <th>7</th>\n",
              "      <td>0</td>\n",
              "      <td>75</td>\n",
              "      <td>73</td>\n",
              "      <td>1</td>\n",
              "      <td>3</td>\n",
              "      <td>14</td>\n",
              "      <td>3</td>\n",
              "      <td>16</td>\n",
              "      <td>29344.0</td>\n",
              "      <td>1</td>\n",
              "    </tr>\n",
              "    <tr>\n",
              "      <th>8</th>\n",
              "      <td>0</td>\n",
              "      <td>52</td>\n",
              "      <td>43</td>\n",
              "      <td>0</td>\n",
              "      <td>0</td>\n",
              "      <td>6</td>\n",
              "      <td>2</td>\n",
              "      <td>0</td>\n",
              "      <td>27283.2</td>\n",
              "      <td>0</td>\n",
              "    </tr>\n",
              "    <tr>\n",
              "      <th>9</th>\n",
              "      <td>0</td>\n",
              "      <td>59</td>\n",
              "      <td>26</td>\n",
              "      <td>1</td>\n",
              "      <td>0</td>\n",
              "      <td>12</td>\n",
              "      <td>3</td>\n",
              "      <td>17</td>\n",
              "      <td>21100.8</td>\n",
              "      <td>1</td>\n",
              "    </tr>\n",
              "  </tbody>\n",
              "</table>\n",
              "</div>"
            ],
            "text/plain": [
              "   Accomodation_Type  Upper_Age  ...  Reco_Policy_Premium  Response\n",
              "1                  0         75  ...              30510.0         0\n",
              "3                  0         52  ...              17780.0         0\n",
              "7                  0         75  ...              29344.0         1\n",
              "8                  0         52  ...              27283.2         0\n",
              "9                  0         59  ...              21100.8         1\n",
              "\n",
              "[5 rows x 10 columns]"
            ]
          },
          "metadata": {
            "tags": []
          },
          "execution_count": 27
        }
      ]
    },
    {
      "cell_type": "code",
      "metadata": {
        "id": "AACmDU-c8GU7"
      },
      "source": [
        "scaler = StandardScaler()\r\n",
        "train_individual_enc_dropped[['Lower_Age','Reco_Policy_Premium']] = scaler.fit_transform(train_individual_enc_dropped[['Lower_Age','Reco_Policy_Premium']])"
      ],
      "execution_count": 28,
      "outputs": []
    },
    {
      "cell_type": "code",
      "metadata": {
        "id": "LUws12lYgecf"
      },
      "source": [
        "\r\n",
        "train_joint_enc_dropped[['Upper_Age','Lower_Age','Reco_Policy_Premium']] = scaler.fit_transform(train_joint_enc_dropped[['Upper_Age','Lower_Age','Reco_Policy_Premium']])"
      ],
      "execution_count": 29,
      "outputs": []
    },
    {
      "cell_type": "code",
      "metadata": {
        "id": "ZjtMmlwr0ytA"
      },
      "source": [
        "train_individual_enc_dropped=pd.get_dummies(train_individual_enc_dropped,columns=['Accomodation_Type',\t'Health Indicator',\t'Holding_Policy_Duration',\t'Holding_Policy_Type',\t'Reco_Policy_Cat'],drop_first=True)\r\n"
      ],
      "execution_count": 30,
      "outputs": []
    },
    {
      "cell_type": "code",
      "metadata": {
        "id": "kAQjkE2JhSqC"
      },
      "source": [
        "train_joint_enc_dropped=pd.get_dummies(train_joint_enc_dropped,columns=['Accomodation_Type',\t'Health Indicator',\t'Holding_Policy_Duration',\t'Holding_Policy_Type',\t'Reco_Policy_Cat'],drop_first=True)\r\n"
      ],
      "execution_count": 31,
      "outputs": []
    },
    {
      "cell_type": "code",
      "metadata": {
        "colab": {
          "base_uri": "https://localhost:8080/",
          "height": 258
        },
        "id": "ueOR9dZZ1v94",
        "outputId": "e9d282c3-1fb6-4931-b1fb-7b36019049c4"
      },
      "source": [
        "print(train_joint_enc_dropped.shape)\r\n",
        "train_joint_enc_dropped.head()"
      ],
      "execution_count": 32,
      "outputs": [
        {
          "output_type": "stream",
          "text": [
            "(10346, 52)\n"
          ],
          "name": "stdout"
        },
        {
          "output_type": "execute_result",
          "data": {
            "text/html": [
              "<div>\n",
              "<style scoped>\n",
              "    .dataframe tbody tr th:only-of-type {\n",
              "        vertical-align: middle;\n",
              "    }\n",
              "\n",
              "    .dataframe tbody tr th {\n",
              "        vertical-align: top;\n",
              "    }\n",
              "\n",
              "    .dataframe thead th {\n",
              "        text-align: right;\n",
              "    }\n",
              "</style>\n",
              "<table border=\"1\" class=\"dataframe\">\n",
              "  <thead>\n",
              "    <tr style=\"text-align: right;\">\n",
              "      <th></th>\n",
              "      <th>Upper_Age</th>\n",
              "      <th>Lower_Age</th>\n",
              "      <th>Is_Spouse</th>\n",
              "      <th>Reco_Policy_Premium</th>\n",
              "      <th>Response</th>\n",
              "      <th>Accomodation_Type_1</th>\n",
              "      <th>Health Indicator_1</th>\n",
              "      <th>Health Indicator_2</th>\n",
              "      <th>Health Indicator_3</th>\n",
              "      <th>Health Indicator_4</th>\n",
              "      <th>Health Indicator_5</th>\n",
              "      <th>Health Indicator_6</th>\n",
              "      <th>Health Indicator_7</th>\n",
              "      <th>Health Indicator_8</th>\n",
              "      <th>Holding_Policy_Duration_1</th>\n",
              "      <th>Holding_Policy_Duration_2</th>\n",
              "      <th>Holding_Policy_Duration_3</th>\n",
              "      <th>Holding_Policy_Duration_4</th>\n",
              "      <th>Holding_Policy_Duration_5</th>\n",
              "      <th>Holding_Policy_Duration_6</th>\n",
              "      <th>Holding_Policy_Duration_7</th>\n",
              "      <th>Holding_Policy_Duration_8</th>\n",
              "      <th>Holding_Policy_Duration_9</th>\n",
              "      <th>Holding_Policy_Duration_10</th>\n",
              "      <th>Holding_Policy_Duration_11</th>\n",
              "      <th>Holding_Policy_Duration_12</th>\n",
              "      <th>Holding_Policy_Duration_13</th>\n",
              "      <th>Holding_Policy_Duration_14</th>\n",
              "      <th>Holding_Policy_Type_1</th>\n",
              "      <th>Holding_Policy_Type_2</th>\n",
              "      <th>Holding_Policy_Type_3</th>\n",
              "      <th>Reco_Policy_Cat_1</th>\n",
              "      <th>Reco_Policy_Cat_2</th>\n",
              "      <th>Reco_Policy_Cat_3</th>\n",
              "      <th>Reco_Policy_Cat_4</th>\n",
              "      <th>Reco_Policy_Cat_5</th>\n",
              "      <th>Reco_Policy_Cat_6</th>\n",
              "      <th>Reco_Policy_Cat_7</th>\n",
              "      <th>Reco_Policy_Cat_8</th>\n",
              "      <th>Reco_Policy_Cat_9</th>\n",
              "      <th>Reco_Policy_Cat_10</th>\n",
              "      <th>Reco_Policy_Cat_11</th>\n",
              "      <th>Reco_Policy_Cat_12</th>\n",
              "      <th>Reco_Policy_Cat_13</th>\n",
              "      <th>Reco_Policy_Cat_14</th>\n",
              "      <th>Reco_Policy_Cat_15</th>\n",
              "      <th>Reco_Policy_Cat_16</th>\n",
              "      <th>Reco_Policy_Cat_17</th>\n",
              "      <th>Reco_Policy_Cat_18</th>\n",
              "      <th>Reco_Policy_Cat_19</th>\n",
              "      <th>Reco_Policy_Cat_20</th>\n",
              "      <th>Reco_Policy_Cat_21</th>\n",
              "    </tr>\n",
              "  </thead>\n",
              "  <tbody>\n",
              "    <tr>\n",
              "      <th>1</th>\n",
              "      <td>1.497194</td>\n",
              "      <td>-1.167069</td>\n",
              "      <td>0</td>\n",
              "      <td>1.271968</td>\n",
              "      <td>0</td>\n",
              "      <td>0</td>\n",
              "      <td>1</td>\n",
              "      <td>0</td>\n",
              "      <td>0</td>\n",
              "      <td>0</td>\n",
              "      <td>0</td>\n",
              "      <td>0</td>\n",
              "      <td>0</td>\n",
              "      <td>0</td>\n",
              "      <td>0</td>\n",
              "      <td>0</td>\n",
              "      <td>0</td>\n",
              "      <td>0</td>\n",
              "      <td>0</td>\n",
              "      <td>0</td>\n",
              "      <td>0</td>\n",
              "      <td>0</td>\n",
              "      <td>0</td>\n",
              "      <td>0</td>\n",
              "      <td>0</td>\n",
              "      <td>0</td>\n",
              "      <td>0</td>\n",
              "      <td>0</td>\n",
              "      <td>0</td>\n",
              "      <td>1</td>\n",
              "      <td>0</td>\n",
              "      <td>0</td>\n",
              "      <td>0</td>\n",
              "      <td>0</td>\n",
              "      <td>0</td>\n",
              "      <td>0</td>\n",
              "      <td>0</td>\n",
              "      <td>0</td>\n",
              "      <td>0</td>\n",
              "      <td>0</td>\n",
              "      <td>0</td>\n",
              "      <td>0</td>\n",
              "      <td>0</td>\n",
              "      <td>0</td>\n",
              "      <td>0</td>\n",
              "      <td>0</td>\n",
              "      <td>0</td>\n",
              "      <td>0</td>\n",
              "      <td>0</td>\n",
              "      <td>0</td>\n",
              "      <td>0</td>\n",
              "      <td>1</td>\n",
              "    </tr>\n",
              "    <tr>\n",
              "      <th>3</th>\n",
              "      <td>-0.042731</td>\n",
              "      <td>0.333263</td>\n",
              "      <td>0</td>\n",
              "      <td>-0.621947</td>\n",
              "      <td>0</td>\n",
              "      <td>0</td>\n",
              "      <td>0</td>\n",
              "      <td>0</td>\n",
              "      <td>0</td>\n",
              "      <td>0</td>\n",
              "      <td>0</td>\n",
              "      <td>0</td>\n",
              "      <td>0</td>\n",
              "      <td>0</td>\n",
              "      <td>0</td>\n",
              "      <td>0</td>\n",
              "      <td>0</td>\n",
              "      <td>0</td>\n",
              "      <td>1</td>\n",
              "      <td>0</td>\n",
              "      <td>0</td>\n",
              "      <td>0</td>\n",
              "      <td>0</td>\n",
              "      <td>0</td>\n",
              "      <td>0</td>\n",
              "      <td>0</td>\n",
              "      <td>0</td>\n",
              "      <td>0</td>\n",
              "      <td>0</td>\n",
              "      <td>1</td>\n",
              "      <td>0</td>\n",
              "      <td>0</td>\n",
              "      <td>0</td>\n",
              "      <td>0</td>\n",
              "      <td>0</td>\n",
              "      <td>0</td>\n",
              "      <td>0</td>\n",
              "      <td>0</td>\n",
              "      <td>0</td>\n",
              "      <td>0</td>\n",
              "      <td>0</td>\n",
              "      <td>0</td>\n",
              "      <td>0</td>\n",
              "      <td>0</td>\n",
              "      <td>0</td>\n",
              "      <td>0</td>\n",
              "      <td>0</td>\n",
              "      <td>0</td>\n",
              "      <td>1</td>\n",
              "      <td>0</td>\n",
              "      <td>0</td>\n",
              "      <td>0</td>\n",
              "    </tr>\n",
              "    <tr>\n",
              "      <th>7</th>\n",
              "      <td>1.497194</td>\n",
              "      <td>1.775889</td>\n",
              "      <td>1</td>\n",
              "      <td>1.098496</td>\n",
              "      <td>1</td>\n",
              "      <td>0</td>\n",
              "      <td>0</td>\n",
              "      <td>0</td>\n",
              "      <td>1</td>\n",
              "      <td>0</td>\n",
              "      <td>0</td>\n",
              "      <td>0</td>\n",
              "      <td>0</td>\n",
              "      <td>0</td>\n",
              "      <td>0</td>\n",
              "      <td>0</td>\n",
              "      <td>0</td>\n",
              "      <td>0</td>\n",
              "      <td>0</td>\n",
              "      <td>0</td>\n",
              "      <td>0</td>\n",
              "      <td>0</td>\n",
              "      <td>0</td>\n",
              "      <td>0</td>\n",
              "      <td>0</td>\n",
              "      <td>0</td>\n",
              "      <td>0</td>\n",
              "      <td>1</td>\n",
              "      <td>0</td>\n",
              "      <td>0</td>\n",
              "      <td>1</td>\n",
              "      <td>0</td>\n",
              "      <td>0</td>\n",
              "      <td>0</td>\n",
              "      <td>0</td>\n",
              "      <td>0</td>\n",
              "      <td>0</td>\n",
              "      <td>0</td>\n",
              "      <td>0</td>\n",
              "      <td>0</td>\n",
              "      <td>0</td>\n",
              "      <td>0</td>\n",
              "      <td>0</td>\n",
              "      <td>0</td>\n",
              "      <td>0</td>\n",
              "      <td>0</td>\n",
              "      <td>1</td>\n",
              "      <td>0</td>\n",
              "      <td>0</td>\n",
              "      <td>0</td>\n",
              "      <td>0</td>\n",
              "      <td>0</td>\n",
              "    </tr>\n",
              "    <tr>\n",
              "      <th>8</th>\n",
              "      <td>-0.042731</td>\n",
              "      <td>0.044737</td>\n",
              "      <td>0</td>\n",
              "      <td>0.791899</td>\n",
              "      <td>0</td>\n",
              "      <td>0</td>\n",
              "      <td>0</td>\n",
              "      <td>0</td>\n",
              "      <td>0</td>\n",
              "      <td>0</td>\n",
              "      <td>0</td>\n",
              "      <td>0</td>\n",
              "      <td>0</td>\n",
              "      <td>0</td>\n",
              "      <td>0</td>\n",
              "      <td>0</td>\n",
              "      <td>0</td>\n",
              "      <td>0</td>\n",
              "      <td>0</td>\n",
              "      <td>1</td>\n",
              "      <td>0</td>\n",
              "      <td>0</td>\n",
              "      <td>0</td>\n",
              "      <td>0</td>\n",
              "      <td>0</td>\n",
              "      <td>0</td>\n",
              "      <td>0</td>\n",
              "      <td>0</td>\n",
              "      <td>0</td>\n",
              "      <td>1</td>\n",
              "      <td>0</td>\n",
              "      <td>0</td>\n",
              "      <td>0</td>\n",
              "      <td>0</td>\n",
              "      <td>0</td>\n",
              "      <td>0</td>\n",
              "      <td>0</td>\n",
              "      <td>0</td>\n",
              "      <td>0</td>\n",
              "      <td>0</td>\n",
              "      <td>0</td>\n",
              "      <td>0</td>\n",
              "      <td>0</td>\n",
              "      <td>0</td>\n",
              "      <td>0</td>\n",
              "      <td>0</td>\n",
              "      <td>0</td>\n",
              "      <td>0</td>\n",
              "      <td>0</td>\n",
              "      <td>0</td>\n",
              "      <td>0</td>\n",
              "      <td>0</td>\n",
              "    </tr>\n",
              "    <tr>\n",
              "      <th>9</th>\n",
              "      <td>0.425942</td>\n",
              "      <td>-0.936249</td>\n",
              "      <td>1</td>\n",
              "      <td>-0.127892</td>\n",
              "      <td>1</td>\n",
              "      <td>0</td>\n",
              "      <td>0</td>\n",
              "      <td>0</td>\n",
              "      <td>0</td>\n",
              "      <td>0</td>\n",
              "      <td>0</td>\n",
              "      <td>0</td>\n",
              "      <td>0</td>\n",
              "      <td>0</td>\n",
              "      <td>0</td>\n",
              "      <td>0</td>\n",
              "      <td>0</td>\n",
              "      <td>0</td>\n",
              "      <td>0</td>\n",
              "      <td>0</td>\n",
              "      <td>0</td>\n",
              "      <td>0</td>\n",
              "      <td>0</td>\n",
              "      <td>0</td>\n",
              "      <td>0</td>\n",
              "      <td>1</td>\n",
              "      <td>0</td>\n",
              "      <td>0</td>\n",
              "      <td>0</td>\n",
              "      <td>0</td>\n",
              "      <td>1</td>\n",
              "      <td>0</td>\n",
              "      <td>0</td>\n",
              "      <td>0</td>\n",
              "      <td>0</td>\n",
              "      <td>0</td>\n",
              "      <td>0</td>\n",
              "      <td>0</td>\n",
              "      <td>0</td>\n",
              "      <td>0</td>\n",
              "      <td>0</td>\n",
              "      <td>0</td>\n",
              "      <td>0</td>\n",
              "      <td>0</td>\n",
              "      <td>0</td>\n",
              "      <td>0</td>\n",
              "      <td>0</td>\n",
              "      <td>1</td>\n",
              "      <td>0</td>\n",
              "      <td>0</td>\n",
              "      <td>0</td>\n",
              "      <td>0</td>\n",
              "    </tr>\n",
              "  </tbody>\n",
              "</table>\n",
              "</div>"
            ],
            "text/plain": [
              "   Upper_Age  Lower_Age  ...  Reco_Policy_Cat_20  Reco_Policy_Cat_21\n",
              "1   1.497194  -1.167069  ...                   0                   1\n",
              "3  -0.042731   0.333263  ...                   0                   0\n",
              "7   1.497194   1.775889  ...                   0                   0\n",
              "8  -0.042731   0.044737  ...                   0                   0\n",
              "9   0.425942  -0.936249  ...                   0                   0\n",
              "\n",
              "[5 rows x 52 columns]"
            ]
          },
          "metadata": {
            "tags": []
          },
          "execution_count": 32
        }
      ]
    },
    {
      "cell_type": "code",
      "metadata": {
        "id": "ZAxVaET119Pl"
      },
      "source": [
        "y=train_individual_enc_dropped['Response']\r\n",
        "X=train_individual_enc_dropped.drop(['Response'],axis=1)"
      ],
      "execution_count": 33,
      "outputs": []
    },
    {
      "cell_type": "code",
      "metadata": {
        "id": "Mlz_pUArkRFD"
      },
      "source": [
        "yj=train_joint_enc_dropped['Response']\r\n",
        "Xj=train_joint_enc_dropped.drop(['Response'],axis=1)"
      ],
      "execution_count": 34,
      "outputs": []
    },
    {
      "cell_type": "code",
      "metadata": {
        "colab": {
          "base_uri": "https://localhost:8080/"
        },
        "id": "wv94blAElhzL",
        "outputId": "cada55a4-af46-4dde-8a1b-14e3ac4a2ff2"
      },
      "source": [
        "print(Xj.shape)"
      ],
      "execution_count": 35,
      "outputs": [
        {
          "output_type": "stream",
          "text": [
            "(10346, 51)\n"
          ],
          "name": "stdout"
        }
      ]
    },
    {
      "cell_type": "code",
      "metadata": {
        "id": "ZTkoa0b33SMX"
      },
      "source": [
        "X_train, X_test, y_train, y_test = train_test_split(X, y, test_size=0.2, random_state=42)\r\n",
        "X_train_j, X_test_j, y_train_j, y_test_j = train_test_split(Xj, yj, test_size=0.2, random_state=42)"
      ],
      "execution_count": 36,
      "outputs": []
    },
    {
      "cell_type": "code",
      "metadata": {
        "colab": {
          "base_uri": "https://localhost:8080/"
        },
        "id": "v5y_-lwrJXeO",
        "outputId": "e5799ab8-e6fc-4a8c-d829-31735f6daef2"
      },
      "source": [
        "from imblearn.over_sampling import SMOTE\r\n",
        "from collections import Counter\r\n",
        "smote = SMOTE()\r\n",
        "\r\n",
        "# fit predictor and target variable\r\n",
        "x_smote, y_smote = smote.fit_resample(X_train, y_train)\r\n",
        "x_smote_j, y_smote_j = smote.fit_resample(X_train_j, y_train_j)\r\n",
        "print(x_smote.shape,y_smote.shape)"
      ],
      "execution_count": 37,
      "outputs": [
        {
          "output_type": "stream",
          "text": [
            "/usr/local/lib/python3.7/dist-packages/sklearn/externals/six.py:31: FutureWarning: The module is deprecated in version 0.21 and will be removed in version 0.23 since we've dropped support for Python 2.7. Please rely on the official version of six (https://pypi.org/project/six/).\n",
            "  \"(https://pypi.org/project/six/).\", FutureWarning)\n",
            "/usr/local/lib/python3.7/dist-packages/sklearn/utils/deprecation.py:144: FutureWarning: The sklearn.neighbors.base module is  deprecated in version 0.22 and will be removed in version 0.24. The corresponding classes / functions should instead be imported from sklearn.neighbors. Anything that cannot be imported from sklearn.neighbors is now part of the private API.\n",
            "  warnings.warn(message, FutureWarning)\n",
            "/usr/local/lib/python3.7/dist-packages/sklearn/utils/deprecation.py:87: FutureWarning: Function safe_indexing is deprecated; safe_indexing is deprecated in version 0.22 and will be removed in version 0.24.\n",
            "  warnings.warn(msg, category=FutureWarning)\n",
            "/usr/local/lib/python3.7/dist-packages/sklearn/utils/deprecation.py:87: FutureWarning: Function safe_indexing is deprecated; safe_indexing is deprecated in version 0.22 and will be removed in version 0.24.\n",
            "  warnings.warn(msg, category=FutureWarning)\n"
          ],
          "name": "stderr"
        },
        {
          "output_type": "stream",
          "text": [
            "(49380, 49) (49380,)\n"
          ],
          "name": "stdout"
        }
      ]
    },
    {
      "cell_type": "code",
      "metadata": {
        "colab": {
          "base_uri": "https://localhost:8080/"
        },
        "id": "bp-lecZxKVxG",
        "outputId": "6a1a31f2-9a1d-4072-aa39-d7f790643ea5"
      },
      "source": [
        "x_smote_j.shape"
      ],
      "execution_count": 38,
      "outputs": [
        {
          "output_type": "execute_result",
          "data": {
            "text/plain": [
              "(12482, 51)"
            ]
          },
          "metadata": {
            "tags": []
          },
          "execution_count": 38
        }
      ]
    },
    {
      "cell_type": "code",
      "metadata": {
        "colab": {
          "base_uri": "https://localhost:8080/"
        },
        "id": "VvPfoc_k32XC",
        "outputId": "b316aa6a-270c-4369-9cda-2e8729150b63"
      },
      "source": [
        "from sklearn.pipeline import Pipeline\r\n",
        "pipelines = []\r\n",
        "pipelines.append(('ScaledLR', Pipeline([('LR',LogisticRegression())])))\r\n",
        "#pipelines.append(('ScaledLASSO', Pipeline([('Scaler', MinMaxScaler()),('LASSO', Lasso())])))\r\n",
        "pipelines.append(('ScaledEN', Pipeline([('EN', RandomForestClassifier())])))\r\n",
        "pipelines.append(('ScaledKNN', Pipeline([('KNN', KNeighborsClassifier())])))\r\n",
        "pipelines.append(('ScaledCART', Pipeline([('CART', DecisionTreeClassifier())])))\r\n",
        "pipelines.append(('ScaledGBM', Pipeline([('Xgb', XGBClassifier())])))\r\n",
        "\r\n",
        "results = []\r\n",
        "names = []\r\n",
        "for name, model in pipelines:\r\n",
        "    kfold = KFold(n_splits=10, random_state=21)\r\n",
        "    cv_results = cross_val_score(model, x_smote, y_smote, cv=kfold, scoring='accuracy')\r\n",
        "    results.append(cv_results)\r\n",
        "    names.append(name)\r\n",
        "    msg = \"%s: %f (%f)\" % (name, cv_results.mean(), cv_results.std())\r\n",
        "    print(msg)"
      ],
      "execution_count": 39,
      "outputs": [
        {
          "output_type": "stream",
          "text": [
            "/usr/local/lib/python3.7/dist-packages/sklearn/model_selection/_split.py:296: FutureWarning: Setting a random_state has no effect since shuffle is False. This will raise an error in 0.24. You should leave random_state to its default (None), or set shuffle=True.\n",
            "  FutureWarning\n",
            "/usr/local/lib/python3.7/dist-packages/sklearn/linear_model/_logistic.py:940: ConvergenceWarning: lbfgs failed to converge (status=1):\n",
            "STOP: TOTAL NO. of ITERATIONS REACHED LIMIT.\n",
            "\n",
            "Increase the number of iterations (max_iter) or scale the data as shown in:\n",
            "    https://scikit-learn.org/stable/modules/preprocessing.html\n",
            "Please also refer to the documentation for alternative solver options:\n",
            "    https://scikit-learn.org/stable/modules/linear_model.html#logistic-regression\n",
            "  extra_warning_msg=_LOGISTIC_SOLVER_CONVERGENCE_MSG)\n",
            "/usr/local/lib/python3.7/dist-packages/sklearn/linear_model/_logistic.py:940: ConvergenceWarning: lbfgs failed to converge (status=1):\n",
            "STOP: TOTAL NO. of ITERATIONS REACHED LIMIT.\n",
            "\n",
            "Increase the number of iterations (max_iter) or scale the data as shown in:\n",
            "    https://scikit-learn.org/stable/modules/preprocessing.html\n",
            "Please also refer to the documentation for alternative solver options:\n",
            "    https://scikit-learn.org/stable/modules/linear_model.html#logistic-regression\n",
            "  extra_warning_msg=_LOGISTIC_SOLVER_CONVERGENCE_MSG)\n",
            "/usr/local/lib/python3.7/dist-packages/sklearn/linear_model/_logistic.py:940: ConvergenceWarning: lbfgs failed to converge (status=1):\n",
            "STOP: TOTAL NO. of ITERATIONS REACHED LIMIT.\n",
            "\n",
            "Increase the number of iterations (max_iter) or scale the data as shown in:\n",
            "    https://scikit-learn.org/stable/modules/preprocessing.html\n",
            "Please also refer to the documentation for alternative solver options:\n",
            "    https://scikit-learn.org/stable/modules/linear_model.html#logistic-regression\n",
            "  extra_warning_msg=_LOGISTIC_SOLVER_CONVERGENCE_MSG)\n",
            "/usr/local/lib/python3.7/dist-packages/sklearn/linear_model/_logistic.py:940: ConvergenceWarning: lbfgs failed to converge (status=1):\n",
            "STOP: TOTAL NO. of ITERATIONS REACHED LIMIT.\n",
            "\n",
            "Increase the number of iterations (max_iter) or scale the data as shown in:\n",
            "    https://scikit-learn.org/stable/modules/preprocessing.html\n",
            "Please also refer to the documentation for alternative solver options:\n",
            "    https://scikit-learn.org/stable/modules/linear_model.html#logistic-regression\n",
            "  extra_warning_msg=_LOGISTIC_SOLVER_CONVERGENCE_MSG)\n",
            "/usr/local/lib/python3.7/dist-packages/sklearn/linear_model/_logistic.py:940: ConvergenceWarning: lbfgs failed to converge (status=1):\n",
            "STOP: TOTAL NO. of ITERATIONS REACHED LIMIT.\n",
            "\n",
            "Increase the number of iterations (max_iter) or scale the data as shown in:\n",
            "    https://scikit-learn.org/stable/modules/preprocessing.html\n",
            "Please also refer to the documentation for alternative solver options:\n",
            "    https://scikit-learn.org/stable/modules/linear_model.html#logistic-regression\n",
            "  extra_warning_msg=_LOGISTIC_SOLVER_CONVERGENCE_MSG)\n"
          ],
          "name": "stderr"
        },
        {
          "output_type": "stream",
          "text": [
            "ScaledLR: 0.497023 (0.047396)\n"
          ],
          "name": "stdout"
        },
        {
          "output_type": "stream",
          "text": [
            "/usr/local/lib/python3.7/dist-packages/sklearn/model_selection/_split.py:296: FutureWarning: Setting a random_state has no effect since shuffle is False. This will raise an error in 0.24. You should leave random_state to its default (None), or set shuffle=True.\n",
            "  FutureWarning\n"
          ],
          "name": "stderr"
        },
        {
          "output_type": "stream",
          "text": [
            "ScaledEN: 0.790745 (0.080420)\n"
          ],
          "name": "stdout"
        },
        {
          "output_type": "stream",
          "text": [
            "/usr/local/lib/python3.7/dist-packages/sklearn/model_selection/_split.py:296: FutureWarning: Setting a random_state has no effect since shuffle is False. This will raise an error in 0.24. You should leave random_state to its default (None), or set shuffle=True.\n",
            "  FutureWarning\n"
          ],
          "name": "stderr"
        },
        {
          "output_type": "stream",
          "text": [
            "ScaledKNN: 0.692649 (0.090428)\n"
          ],
          "name": "stdout"
        },
        {
          "output_type": "stream",
          "text": [
            "/usr/local/lib/python3.7/dist-packages/sklearn/model_selection/_split.py:296: FutureWarning: Setting a random_state has no effect since shuffle is False. This will raise an error in 0.24. You should leave random_state to its default (None), or set shuffle=True.\n",
            "  FutureWarning\n"
          ],
          "name": "stderr"
        },
        {
          "output_type": "stream",
          "text": [
            "ScaledCART: 0.723410 (0.080213)\n"
          ],
          "name": "stdout"
        },
        {
          "output_type": "stream",
          "text": [
            "/usr/local/lib/python3.7/dist-packages/sklearn/model_selection/_split.py:296: FutureWarning: Setting a random_state has no effect since shuffle is False. This will raise an error in 0.24. You should leave random_state to its default (None), or set shuffle=True.\n",
            "  FutureWarning\n"
          ],
          "name": "stderr"
        },
        {
          "output_type": "stream",
          "text": [
            "ScaledGBM: 0.598967 (0.036721)\n"
          ],
          "name": "stdout"
        }
      ]
    },
    {
      "cell_type": "code",
      "metadata": {
        "colab": {
          "base_uri": "https://localhost:8080/"
        },
        "id": "nJ2FOWO7lH8I",
        "outputId": "9cd6c853-f67d-4b5c-8471-5f4d34f4421e"
      },
      "source": [
        "from sklearn.pipeline import Pipeline\r\n",
        "pipelines = []\r\n",
        "pipelines.append(('ScaledLR', Pipeline([('LR',LogisticRegression())])))\r\n",
        "#pipelines.append(('ScaledLASSO', Pipeline([('Scaler', MinMaxScaler()),('LASSO', Lasso())])))\r\n",
        "pipelines.append(('ScaledEN', Pipeline([('EN', RandomForestClassifier())])))\r\n",
        "pipelines.append(('ScaledKNN', Pipeline([('KNN', KNeighborsClassifier())])))\r\n",
        "pipelines.append(('ScaledCART', Pipeline([('CART', DecisionTreeClassifier())])))\r\n",
        "pipelines.append(('ScaledGBM', Pipeline([('Xgb', XGBClassifier())])))\r\n",
        "\r\n",
        "results = []\r\n",
        "names = []\r\n",
        "for name, model in pipelines:\r\n",
        "    kfold = KFold(n_splits=10, random_state=21)\r\n",
        "    cv_results = cross_val_score(model, x_smote_j, y_smote_j, cv=kfold, scoring='accuracy')\r\n",
        "    results.append(cv_results)\r\n",
        "    names.append(name)\r\n",
        "    msg = \"%s: %f (%f)\" % (name, cv_results.mean(), cv_results.std())\r\n",
        "    print(msg)"
      ],
      "execution_count": 40,
      "outputs": [
        {
          "output_type": "stream",
          "text": [
            "/usr/local/lib/python3.7/dist-packages/sklearn/model_selection/_split.py:296: FutureWarning: Setting a random_state has no effect since shuffle is False. This will raise an error in 0.24. You should leave random_state to its default (None), or set shuffle=True.\n",
            "  FutureWarning\n",
            "/usr/local/lib/python3.7/dist-packages/sklearn/linear_model/_logistic.py:940: ConvergenceWarning: lbfgs failed to converge (status=1):\n",
            "STOP: TOTAL NO. of ITERATIONS REACHED LIMIT.\n",
            "\n",
            "Increase the number of iterations (max_iter) or scale the data as shown in:\n",
            "    https://scikit-learn.org/stable/modules/preprocessing.html\n",
            "Please also refer to the documentation for alternative solver options:\n",
            "    https://scikit-learn.org/stable/modules/linear_model.html#logistic-regression\n",
            "  extra_warning_msg=_LOGISTIC_SOLVER_CONVERGENCE_MSG)\n",
            "/usr/local/lib/python3.7/dist-packages/sklearn/linear_model/_logistic.py:940: ConvergenceWarning: lbfgs failed to converge (status=1):\n",
            "STOP: TOTAL NO. of ITERATIONS REACHED LIMIT.\n",
            "\n",
            "Increase the number of iterations (max_iter) or scale the data as shown in:\n",
            "    https://scikit-learn.org/stable/modules/preprocessing.html\n",
            "Please also refer to the documentation for alternative solver options:\n",
            "    https://scikit-learn.org/stable/modules/linear_model.html#logistic-regression\n",
            "  extra_warning_msg=_LOGISTIC_SOLVER_CONVERGENCE_MSG)\n",
            "/usr/local/lib/python3.7/dist-packages/sklearn/linear_model/_logistic.py:940: ConvergenceWarning: lbfgs failed to converge (status=1):\n",
            "STOP: TOTAL NO. of ITERATIONS REACHED LIMIT.\n",
            "\n",
            "Increase the number of iterations (max_iter) or scale the data as shown in:\n",
            "    https://scikit-learn.org/stable/modules/preprocessing.html\n",
            "Please also refer to the documentation for alternative solver options:\n",
            "    https://scikit-learn.org/stable/modules/linear_model.html#logistic-regression\n",
            "  extra_warning_msg=_LOGISTIC_SOLVER_CONVERGENCE_MSG)\n",
            "/usr/local/lib/python3.7/dist-packages/sklearn/linear_model/_logistic.py:940: ConvergenceWarning: lbfgs failed to converge (status=1):\n",
            "STOP: TOTAL NO. of ITERATIONS REACHED LIMIT.\n",
            "\n",
            "Increase the number of iterations (max_iter) or scale the data as shown in:\n",
            "    https://scikit-learn.org/stable/modules/preprocessing.html\n",
            "Please also refer to the documentation for alternative solver options:\n",
            "    https://scikit-learn.org/stable/modules/linear_model.html#logistic-regression\n",
            "  extra_warning_msg=_LOGISTIC_SOLVER_CONVERGENCE_MSG)\n",
            "/usr/local/lib/python3.7/dist-packages/sklearn/linear_model/_logistic.py:940: ConvergenceWarning: lbfgs failed to converge (status=1):\n",
            "STOP: TOTAL NO. of ITERATIONS REACHED LIMIT.\n",
            "\n",
            "Increase the number of iterations (max_iter) or scale the data as shown in:\n",
            "    https://scikit-learn.org/stable/modules/preprocessing.html\n",
            "Please also refer to the documentation for alternative solver options:\n",
            "    https://scikit-learn.org/stable/modules/linear_model.html#logistic-regression\n",
            "  extra_warning_msg=_LOGISTIC_SOLVER_CONVERGENCE_MSG)\n",
            "/usr/local/lib/python3.7/dist-packages/sklearn/linear_model/_logistic.py:940: ConvergenceWarning: lbfgs failed to converge (status=1):\n",
            "STOP: TOTAL NO. of ITERATIONS REACHED LIMIT.\n",
            "\n",
            "Increase the number of iterations (max_iter) or scale the data as shown in:\n",
            "    https://scikit-learn.org/stable/modules/preprocessing.html\n",
            "Please also refer to the documentation for alternative solver options:\n",
            "    https://scikit-learn.org/stable/modules/linear_model.html#logistic-regression\n",
            "  extra_warning_msg=_LOGISTIC_SOLVER_CONVERGENCE_MSG)\n",
            "/usr/local/lib/python3.7/dist-packages/sklearn/model_selection/_split.py:296: FutureWarning: Setting a random_state has no effect since shuffle is False. This will raise an error in 0.24. You should leave random_state to its default (None), or set shuffle=True.\n",
            "  FutureWarning\n"
          ],
          "name": "stderr"
        },
        {
          "output_type": "stream",
          "text": [
            "ScaledLR: 0.506086 (0.052164)\n",
            "ScaledEN: 0.833452 (0.091735)\n"
          ],
          "name": "stdout"
        },
        {
          "output_type": "stream",
          "text": [
            "/usr/local/lib/python3.7/dist-packages/sklearn/model_selection/_split.py:296: FutureWarning: Setting a random_state has no effect since shuffle is False. This will raise an error in 0.24. You should leave random_state to its default (None), or set shuffle=True.\n",
            "  FutureWarning\n"
          ],
          "name": "stderr"
        },
        {
          "output_type": "stream",
          "text": [
            "ScaledKNN: 0.703833 (0.138062)\n"
          ],
          "name": "stdout"
        },
        {
          "output_type": "stream",
          "text": [
            "/usr/local/lib/python3.7/dist-packages/sklearn/model_selection/_split.py:296: FutureWarning: Setting a random_state has no effect since shuffle is False. This will raise an error in 0.24. You should leave random_state to its default (None), or set shuffle=True.\n",
            "  FutureWarning\n"
          ],
          "name": "stderr"
        },
        {
          "output_type": "stream",
          "text": [
            "ScaledCART: 0.737954 (0.099912)\n"
          ],
          "name": "stdout"
        },
        {
          "output_type": "stream",
          "text": [
            "/usr/local/lib/python3.7/dist-packages/sklearn/model_selection/_split.py:296: FutureWarning: Setting a random_state has no effect since shuffle is False. This will raise an error in 0.24. You should leave random_state to its default (None), or set shuffle=True.\n",
            "  FutureWarning\n"
          ],
          "name": "stderr"
        },
        {
          "output_type": "stream",
          "text": [
            "ScaledGBM: 0.727855 (0.051947)\n"
          ],
          "name": "stdout"
        }
      ]
    },
    {
      "cell_type": "code",
      "metadata": {
        "id": "qIiw8fwI4Y-L"
      },
      "source": [
        "from sklearn.model_selection import RandomizedSearchCV\r\n",
        "\r\n",
        "# Number of trees in random forest\r\n",
        "n_estimators = [int(x) for x in np.linspace(start = 10, stop = 100, num = 10)]\r\n",
        "\r\n",
        "# Number of features to consider at every split\r\n",
        "max_features = ['auto', 'sqrt']\r\n",
        "\r\n",
        "# Maximum number of levels in tree\r\n",
        "max_depth = [int(x) for x in np.linspace(1, 10, num = 1)]\r\n",
        "max_depth.append(None)\r\n",
        "\r\n",
        "# Minimum number of samples required to split a node\r\n",
        "min_samples_split = [2, 5, 10]\r\n",
        "\r\n",
        "# Minimum number of samples required at each leaf node\r\n",
        "min_samples_leaf = [1, 2, 4,8]\r\n",
        "\r\n",
        "# Method of selecting samples for training each tree\r\n",
        "bootstrap = [True, False]\r\n",
        "random_grid = {'n_estimators': n_estimators,\r\n",
        "               'max_features': max_features,\r\n",
        "               'max_depth': max_depth,\r\n",
        "               'min_samples_split': min_samples_split,\r\n",
        "               'min_samples_leaf': min_samples_leaf,\r\n",
        "               'bootstrap': bootstrap}"
      ],
      "execution_count": 41,
      "outputs": []
    },
    {
      "cell_type": "code",
      "metadata": {
        "colab": {
          "base_uri": "https://localhost:8080/"
        },
        "id": "Fi194DwoDtcY",
        "outputId": "bf3714cc-b72a-41fc-f455-58f2051d2dc2"
      },
      "source": [
        "rf = RandomForestClassifier()\r\n",
        "# Random search of parameters, using 3 fold cross validation, \r\n",
        "# search across 100 different combinations, and use all available cores\r\n",
        "rf_random = RandomizedSearchCV(estimator = rf, param_distributions = random_grid, n_iter = 10, cv = 3, verbose=2, random_state=42, n_jobs = -1)\r\n",
        "# Fit the random search model\r\n",
        "rf_random.fit(x_smote, y_smote)\r\n",
        "\r\n",
        "rf_random.best_params_"
      ],
      "execution_count": 42,
      "outputs": [
        {
          "output_type": "stream",
          "text": [
            "Fitting 3 folds for each of 10 candidates, totalling 30 fits\n"
          ],
          "name": "stdout"
        },
        {
          "output_type": "stream",
          "text": [
            "[Parallel(n_jobs=-1)]: Using backend LokyBackend with 2 concurrent workers.\n",
            "[Parallel(n_jobs=-1)]: Done  30 out of  30 | elapsed:  1.3min finished\n"
          ],
          "name": "stderr"
        },
        {
          "output_type": "execute_result",
          "data": {
            "text/plain": [
              "{'bootstrap': False,\n",
              " 'max_depth': None,\n",
              " 'max_features': 'sqrt',\n",
              " 'min_samples_leaf': 2,\n",
              " 'min_samples_split': 2,\n",
              " 'n_estimators': 90}"
            ]
          },
          "metadata": {
            "tags": []
          },
          "execution_count": 42
        }
      ]
    },
    {
      "cell_type": "code",
      "metadata": {
        "colab": {
          "base_uri": "https://localhost:8080/"
        },
        "id": "L2SImoSPmPwS",
        "outputId": "ee190f53-7fe2-4a90-88bc-e7beee83f6b3"
      },
      "source": [
        "rf = RandomForestClassifier()\r\n",
        "# Random search of parameters, using 3 fold cross validation, \r\n",
        "# search across 100 different combinations, and use all available cores\r\n",
        "rf_random = RandomizedSearchCV(estimator = rf, param_distributions = random_grid, n_iter = 10, cv = 3, verbose=2, random_state=42, n_jobs = -1)\r\n",
        "# Fit the random search model\r\n",
        "rf_random.fit(x_smote_j, y_smote_j)\r\n",
        "\r\n",
        "rf_random.best_params_"
      ],
      "execution_count": 43,
      "outputs": [
        {
          "output_type": "stream",
          "text": [
            "Fitting 3 folds for each of 10 candidates, totalling 30 fits\n"
          ],
          "name": "stdout"
        },
        {
          "output_type": "stream",
          "text": [
            "[Parallel(n_jobs=-1)]: Using backend LokyBackend with 2 concurrent workers.\n",
            "[Parallel(n_jobs=-1)]: Done  30 out of  30 | elapsed:   16.6s finished\n"
          ],
          "name": "stderr"
        },
        {
          "output_type": "execute_result",
          "data": {
            "text/plain": [
              "{'bootstrap': False,\n",
              " 'max_depth': None,\n",
              " 'max_features': 'sqrt',\n",
              " 'min_samples_leaf': 2,\n",
              " 'min_samples_split': 2,\n",
              " 'n_estimators': 90}"
            ]
          },
          "metadata": {
            "tags": []
          },
          "execution_count": 43
        }
      ]
    },
    {
      "cell_type": "code",
      "metadata": {
        "colab": {
          "base_uri": "https://localhost:8080/"
        },
        "id": "qQ-YiA14Dy9s",
        "outputId": "d948a2d2-eb54-4939-97cc-45dd5a36210b"
      },
      "source": [
        "clf = RandomForestClassifier(bootstrap=False,\r\n",
        " max_depth= None,\r\n",
        " max_features= 'sqrt',\r\n",
        " min_samples_leaf= 2,\r\n",
        " min_samples_split= 2,\r\n",
        " n_estimators= 90)\r\n",
        "clf.fit(x_smote,y_smote)\r\n",
        "y_predicted=clf.predict(X_test)\r\n",
        "target_names=['Non Response','Response']\r\n",
        "print(confusion_matrix(y_test, y_predicted))\r\n",
        "print(classification_report(y_test, y_predicted, target_names=target_names))"
      ],
      "execution_count": 44,
      "outputs": [
        {
          "output_type": "stream",
          "text": [
            "[[4923 1283]\n",
            " [1245  657]]\n",
            "              precision    recall  f1-score   support\n",
            "\n",
            "Non Response       0.80      0.79      0.80      6206\n",
            "    Response       0.34      0.35      0.34      1902\n",
            "\n",
            "    accuracy                           0.69      8108\n",
            "   macro avg       0.57      0.57      0.57      8108\n",
            "weighted avg       0.69      0.69      0.69      8108\n",
            "\n"
          ],
          "name": "stdout"
        }
      ]
    },
    {
      "cell_type": "code",
      "metadata": {
        "colab": {
          "base_uri": "https://localhost:8080/"
        },
        "id": "THWh1hArPM47",
        "outputId": "cb8250fa-2cb5-40bb-f023-76d8aef7f01f"
      },
      "source": [
        "clf_j= RandomForestClassifier(bootstrap= False,\r\n",
        " max_depth= None,\r\n",
        " max_features= 'sqrt',\r\n",
        " min_samples_leaf= 2,\r\n",
        " min_samples_split= 2,\r\n",
        " n_estimators=90)\r\n",
        "clf_j.fit(x_smote_j,y_smote_j)\r\n",
        "y_predicted=clf_j.predict(X_test_j)\r\n",
        "target_names=['Non Response','Response']\r\n",
        "print(confusion_matrix(y_test_j, y_predicted))\r\n",
        "print(classification_report(y_test_j, y_predicted, target_names=target_names))"
      ],
      "execution_count": 45,
      "outputs": [
        {
          "output_type": "stream",
          "text": [
            "[[1352  184]\n",
            " [ 439   95]]\n",
            "              precision    recall  f1-score   support\n",
            "\n",
            "Non Response       0.75      0.88      0.81      1536\n",
            "    Response       0.34      0.18      0.23       534\n",
            "\n",
            "    accuracy                           0.70      2070\n",
            "   macro avg       0.55      0.53      0.52      2070\n",
            "weighted avg       0.65      0.70      0.66      2070\n",
            "\n"
          ],
          "name": "stdout"
        }
      ]
    },
    {
      "cell_type": "code",
      "metadata": {
        "colab": {
          "base_uri": "https://localhost:8080/",
          "height": 241
        },
        "id": "GUNPHrvim6yP",
        "outputId": "24d4b9c6-b3a7-47e8-8376-ee4fa58c94f6"
      },
      "source": [
        "test=pd.read_csv('test.csv')\r\n",
        "test.head()"
      ],
      "execution_count": 87,
      "outputs": [
        {
          "output_type": "execute_result",
          "data": {
            "text/html": [
              "<div>\n",
              "<style scoped>\n",
              "    .dataframe tbody tr th:only-of-type {\n",
              "        vertical-align: middle;\n",
              "    }\n",
              "\n",
              "    .dataframe tbody tr th {\n",
              "        vertical-align: top;\n",
              "    }\n",
              "\n",
              "    .dataframe thead th {\n",
              "        text-align: right;\n",
              "    }\n",
              "</style>\n",
              "<table border=\"1\" class=\"dataframe\">\n",
              "  <thead>\n",
              "    <tr style=\"text-align: right;\">\n",
              "      <th></th>\n",
              "      <th>ID</th>\n",
              "      <th>City_Code</th>\n",
              "      <th>Region_Code</th>\n",
              "      <th>Accomodation_Type</th>\n",
              "      <th>Reco_Insurance_Type</th>\n",
              "      <th>Upper_Age</th>\n",
              "      <th>Lower_Age</th>\n",
              "      <th>Is_Spouse</th>\n",
              "      <th>Health Indicator</th>\n",
              "      <th>Holding_Policy_Duration</th>\n",
              "      <th>Holding_Policy_Type</th>\n",
              "      <th>Reco_Policy_Cat</th>\n",
              "      <th>Reco_Policy_Premium</th>\n",
              "    </tr>\n",
              "  </thead>\n",
              "  <tbody>\n",
              "    <tr>\n",
              "      <th>0</th>\n",
              "      <td>50883</td>\n",
              "      <td>C1</td>\n",
              "      <td>156</td>\n",
              "      <td>Owned</td>\n",
              "      <td>Individual</td>\n",
              "      <td>30</td>\n",
              "      <td>30</td>\n",
              "      <td>No</td>\n",
              "      <td>NaN</td>\n",
              "      <td>6.0</td>\n",
              "      <td>3.0</td>\n",
              "      <td>5</td>\n",
              "      <td>11934.0</td>\n",
              "    </tr>\n",
              "    <tr>\n",
              "      <th>1</th>\n",
              "      <td>50884</td>\n",
              "      <td>C4</td>\n",
              "      <td>7</td>\n",
              "      <td>Owned</td>\n",
              "      <td>Joint</td>\n",
              "      <td>69</td>\n",
              "      <td>68</td>\n",
              "      <td>Yes</td>\n",
              "      <td>X1</td>\n",
              "      <td>3.0</td>\n",
              "      <td>3.0</td>\n",
              "      <td>18</td>\n",
              "      <td>32204.8</td>\n",
              "    </tr>\n",
              "    <tr>\n",
              "      <th>2</th>\n",
              "      <td>50885</td>\n",
              "      <td>C1</td>\n",
              "      <td>564</td>\n",
              "      <td>Rented</td>\n",
              "      <td>Individual</td>\n",
              "      <td>28</td>\n",
              "      <td>28</td>\n",
              "      <td>No</td>\n",
              "      <td>X3</td>\n",
              "      <td>2.0</td>\n",
              "      <td>4.0</td>\n",
              "      <td>17</td>\n",
              "      <td>9240.0</td>\n",
              "    </tr>\n",
              "    <tr>\n",
              "      <th>3</th>\n",
              "      <td>50886</td>\n",
              "      <td>C3</td>\n",
              "      <td>1177</td>\n",
              "      <td>Rented</td>\n",
              "      <td>Individual</td>\n",
              "      <td>23</td>\n",
              "      <td>23</td>\n",
              "      <td>No</td>\n",
              "      <td>X3</td>\n",
              "      <td>3.0</td>\n",
              "      <td>3.0</td>\n",
              "      <td>18</td>\n",
              "      <td>9086.0</td>\n",
              "    </tr>\n",
              "    <tr>\n",
              "      <th>4</th>\n",
              "      <td>50887</td>\n",
              "      <td>C1</td>\n",
              "      <td>951</td>\n",
              "      <td>Owned</td>\n",
              "      <td>Individual</td>\n",
              "      <td>75</td>\n",
              "      <td>75</td>\n",
              "      <td>No</td>\n",
              "      <td>X3</td>\n",
              "      <td>NaN</td>\n",
              "      <td>NaN</td>\n",
              "      <td>5</td>\n",
              "      <td>22534.0</td>\n",
              "    </tr>\n",
              "  </tbody>\n",
              "</table>\n",
              "</div>"
            ],
            "text/plain": [
              "      ID City_Code  ...  Reco_Policy_Cat Reco_Policy_Premium\n",
              "0  50883        C1  ...                5             11934.0\n",
              "1  50884        C4  ...               18             32204.8\n",
              "2  50885        C1  ...               17              9240.0\n",
              "3  50886        C3  ...               18              9086.0\n",
              "4  50887        C1  ...                5             22534.0\n",
              "\n",
              "[5 rows x 13 columns]"
            ]
          },
          "metadata": {
            "tags": []
          },
          "execution_count": 87
        }
      ]
    },
    {
      "cell_type": "code",
      "metadata": {
        "colab": {
          "base_uri": "https://localhost:8080/"
        },
        "id": "yqoqQb96oQEK",
        "outputId": "69757c09-0d41-4f76-d12b-c989128c8256"
      },
      "source": [
        "test.isnull().sum()"
      ],
      "execution_count": 88,
      "outputs": [
        {
          "output_type": "execute_result",
          "data": {
            "text/plain": [
              "ID                            0\n",
              "City_Code                     0\n",
              "Region_Code                   0\n",
              "Accomodation_Type             0\n",
              "Reco_Insurance_Type           0\n",
              "Upper_Age                     0\n",
              "Lower_Age                     0\n",
              "Is_Spouse                     0\n",
              "Health Indicator           5027\n",
              "Holding_Policy_Duration    8603\n",
              "Holding_Policy_Type        8603\n",
              "Reco_Policy_Cat               0\n",
              "Reco_Policy_Premium           0\n",
              "dtype: int64"
            ]
          },
          "metadata": {
            "tags": []
          },
          "execution_count": 88
        }
      ]
    },
    {
      "cell_type": "code",
      "metadata": {
        "id": "mxP00qBaoZAg"
      },
      "source": [
        "#categorical_columns.remove('Response')\r\n",
        "for i in numerical_columns:\r\n",
        "  test[i].fillna(test[i].median(),inplace = True)\r\n",
        "# categorical_coloumns col\r\n",
        "for i in categorical_columns:\r\n",
        "  test[i].fillna(test[i].mode()[0],inplace = True)"
      ],
      "execution_count": 89,
      "outputs": []
    },
    {
      "cell_type": "code",
      "metadata": {
        "colab": {
          "base_uri": "https://localhost:8080/",
          "height": 241
        },
        "id": "xBxIblNHN5HK",
        "outputId": "557bed60-0898-4a77-b8d2-41af1a8a5833"
      },
      "source": [
        "test_joint=test[test['Reco_Insurance_Type']=='Joint']\r\n",
        "test_individual=test[test['Reco_Insurance_Type']=='Individual']\r\n",
        "test_joint.head()"
      ],
      "execution_count": 90,
      "outputs": [
        {
          "output_type": "execute_result",
          "data": {
            "text/html": [
              "<div>\n",
              "<style scoped>\n",
              "    .dataframe tbody tr th:only-of-type {\n",
              "        vertical-align: middle;\n",
              "    }\n",
              "\n",
              "    .dataframe tbody tr th {\n",
              "        vertical-align: top;\n",
              "    }\n",
              "\n",
              "    .dataframe thead th {\n",
              "        text-align: right;\n",
              "    }\n",
              "</style>\n",
              "<table border=\"1\" class=\"dataframe\">\n",
              "  <thead>\n",
              "    <tr style=\"text-align: right;\">\n",
              "      <th></th>\n",
              "      <th>ID</th>\n",
              "      <th>City_Code</th>\n",
              "      <th>Region_Code</th>\n",
              "      <th>Accomodation_Type</th>\n",
              "      <th>Reco_Insurance_Type</th>\n",
              "      <th>Upper_Age</th>\n",
              "      <th>Lower_Age</th>\n",
              "      <th>Is_Spouse</th>\n",
              "      <th>Health Indicator</th>\n",
              "      <th>Holding_Policy_Duration</th>\n",
              "      <th>Holding_Policy_Type</th>\n",
              "      <th>Reco_Policy_Cat</th>\n",
              "      <th>Reco_Policy_Premium</th>\n",
              "    </tr>\n",
              "  </thead>\n",
              "  <tbody>\n",
              "    <tr>\n",
              "      <th>1</th>\n",
              "      <td>50884</td>\n",
              "      <td>C4</td>\n",
              "      <td>7</td>\n",
              "      <td>Owned</td>\n",
              "      <td>Joint</td>\n",
              "      <td>69</td>\n",
              "      <td>68</td>\n",
              "      <td>Yes</td>\n",
              "      <td>X1</td>\n",
              "      <td>3.0</td>\n",
              "      <td>3.0</td>\n",
              "      <td>18</td>\n",
              "      <td>32204.8</td>\n",
              "    </tr>\n",
              "    <tr>\n",
              "      <th>9</th>\n",
              "      <td>50892</td>\n",
              "      <td>C3</td>\n",
              "      <td>957</td>\n",
              "      <td>Owned</td>\n",
              "      <td>Joint</td>\n",
              "      <td>41</td>\n",
              "      <td>37</td>\n",
              "      <td>Yes</td>\n",
              "      <td>X5</td>\n",
              "      <td>6.0</td>\n",
              "      <td>1.0</td>\n",
              "      <td>22</td>\n",
              "      <td>16934.4</td>\n",
              "    </tr>\n",
              "    <tr>\n",
              "      <th>15</th>\n",
              "      <td>50898</td>\n",
              "      <td>C11</td>\n",
              "      <td>2000</td>\n",
              "      <td>Owned</td>\n",
              "      <td>Joint</td>\n",
              "      <td>46</td>\n",
              "      <td>37</td>\n",
              "      <td>No</td>\n",
              "      <td>X1</td>\n",
              "      <td>14+</td>\n",
              "      <td>3.0</td>\n",
              "      <td>20</td>\n",
              "      <td>18333.0</td>\n",
              "    </tr>\n",
              "    <tr>\n",
              "      <th>24</th>\n",
              "      <td>50907</td>\n",
              "      <td>C3</td>\n",
              "      <td>3891</td>\n",
              "      <td>Owned</td>\n",
              "      <td>Joint</td>\n",
              "      <td>68</td>\n",
              "      <td>66</td>\n",
              "      <td>Yes</td>\n",
              "      <td>X1</td>\n",
              "      <td>5.0</td>\n",
              "      <td>3.0</td>\n",
              "      <td>9</td>\n",
              "      <td>24206.0</td>\n",
              "    </tr>\n",
              "    <tr>\n",
              "      <th>25</th>\n",
              "      <td>50908</td>\n",
              "      <td>C2</td>\n",
              "      <td>2810</td>\n",
              "      <td>Owned</td>\n",
              "      <td>Joint</td>\n",
              "      <td>55</td>\n",
              "      <td>54</td>\n",
              "      <td>Yes</td>\n",
              "      <td>X2</td>\n",
              "      <td>4.0</td>\n",
              "      <td>3.0</td>\n",
              "      <td>3</td>\n",
              "      <td>23091.2</td>\n",
              "    </tr>\n",
              "  </tbody>\n",
              "</table>\n",
              "</div>"
            ],
            "text/plain": [
              "       ID City_Code  ...  Reco_Policy_Cat Reco_Policy_Premium\n",
              "1   50884        C4  ...               18             32204.8\n",
              "9   50892        C3  ...               22             16934.4\n",
              "15  50898       C11  ...               20             18333.0\n",
              "24  50907        C3  ...                9             24206.0\n",
              "25  50908        C2  ...                3             23091.2\n",
              "\n",
              "[5 rows x 13 columns]"
            ]
          },
          "metadata": {
            "tags": []
          },
          "execution_count": 90
        }
      ]
    },
    {
      "cell_type": "code",
      "metadata": {
        "colab": {
          "base_uri": "https://localhost:8080/"
        },
        "id": "aZWYIUPuOxBx",
        "outputId": "e9b43101-6d18-41dd-8744-60a80737589f"
      },
      "source": [
        "test_joint_id=pd.DataFrame()\r\n",
        "test_individual_id=pd.DataFrame()\r\n",
        "\r\n",
        "test_joint_id['ID']=test_joint['ID']\r\n",
        "test_individual_id['ID']=test_individual['ID']\r\n",
        "test_joint=test_joint.drop(['ID','City_Code','Reco_Insurance_Type'],axis=1)\r\n",
        "test_individual=test_individual.drop(['ID','City_Code','Reco_Insurance_Type','Upper_Age','Is_Spouse'],axis=1)\r\n",
        "print(test_individual.head())\r\n",
        "print(test_joint.head())"
      ],
      "execution_count": 91,
      "outputs": [
        {
          "output_type": "stream",
          "text": [
            "   Region_Code Accomodation_Type  ...  Reco_Policy_Cat Reco_Policy_Premium\n",
            "0          156             Owned  ...                5             11934.0\n",
            "2          564            Rented  ...               17              9240.0\n",
            "3         1177            Rented  ...               18              9086.0\n",
            "4          951             Owned  ...                5             22534.0\n",
            "5         1329            Rented  ...               18              6150.0\n",
            "\n",
            "[5 rows x 8 columns]\n",
            "    Region_Code Accomodation_Type  ...  Reco_Policy_Cat  Reco_Policy_Premium\n",
            "1             7             Owned  ...               18              32204.8\n",
            "9           957             Owned  ...               22              16934.4\n",
            "15         2000             Owned  ...               20              18333.0\n",
            "24         3891             Owned  ...                9              24206.0\n",
            "25         2810             Owned  ...                3              23091.2\n",
            "\n",
            "[5 rows x 10 columns]\n"
          ],
          "name": "stdout"
        }
      ]
    },
    {
      "cell_type": "code",
      "metadata": {
        "id": "j9MPC8_EXDzy"
      },
      "source": [
        "test_individual_enc=label_encoders(test_individual)\r\n",
        "test_joint_enc=label_encoders(test_joint)"
      ],
      "execution_count": 92,
      "outputs": []
    },
    {
      "cell_type": "code",
      "metadata": {
        "colab": {
          "base_uri": "https://localhost:8080/",
          "height": 241
        },
        "id": "Bo6HJQ-LWmF2",
        "outputId": "2ff976cd-ccf7-49a9-c41a-367752b84653"
      },
      "source": [
        "test_individual_enc_dropped=test_individual_enc.drop(['Region_Code'],axis=1)\r\n",
        "test_individual_enc_dropped.head()\r\n",
        "test_joint_enc_dropped=test_joint_enc.drop(['Region_Code'],axis=1)\r\n",
        "test_joint_enc_dropped.head()"
      ],
      "execution_count": 93,
      "outputs": [
        {
          "output_type": "execute_result",
          "data": {
            "text/html": [
              "<div>\n",
              "<style scoped>\n",
              "    .dataframe tbody tr th:only-of-type {\n",
              "        vertical-align: middle;\n",
              "    }\n",
              "\n",
              "    .dataframe tbody tr th {\n",
              "        vertical-align: top;\n",
              "    }\n",
              "\n",
              "    .dataframe thead th {\n",
              "        text-align: right;\n",
              "    }\n",
              "</style>\n",
              "<table border=\"1\" class=\"dataframe\">\n",
              "  <thead>\n",
              "    <tr style=\"text-align: right;\">\n",
              "      <th></th>\n",
              "      <th>Accomodation_Type</th>\n",
              "      <th>Upper_Age</th>\n",
              "      <th>Lower_Age</th>\n",
              "      <th>Is_Spouse</th>\n",
              "      <th>Health Indicator</th>\n",
              "      <th>Holding_Policy_Duration</th>\n",
              "      <th>Holding_Policy_Type</th>\n",
              "      <th>Reco_Policy_Cat</th>\n",
              "      <th>Reco_Policy_Premium</th>\n",
              "    </tr>\n",
              "  </thead>\n",
              "  <tbody>\n",
              "    <tr>\n",
              "      <th>1</th>\n",
              "      <td>0</td>\n",
              "      <td>69</td>\n",
              "      <td>68</td>\n",
              "      <td>1</td>\n",
              "      <td>0</td>\n",
              "      <td>8</td>\n",
              "      <td>2</td>\n",
              "      <td>17</td>\n",
              "      <td>32204.8</td>\n",
              "    </tr>\n",
              "    <tr>\n",
              "      <th>9</th>\n",
              "      <td>0</td>\n",
              "      <td>41</td>\n",
              "      <td>37</td>\n",
              "      <td>1</td>\n",
              "      <td>4</td>\n",
              "      <td>11</td>\n",
              "      <td>0</td>\n",
              "      <td>21</td>\n",
              "      <td>16934.4</td>\n",
              "    </tr>\n",
              "    <tr>\n",
              "      <th>15</th>\n",
              "      <td>0</td>\n",
              "      <td>46</td>\n",
              "      <td>37</td>\n",
              "      <td>0</td>\n",
              "      <td>0</td>\n",
              "      <td>5</td>\n",
              "      <td>2</td>\n",
              "      <td>19</td>\n",
              "      <td>18333.0</td>\n",
              "    </tr>\n",
              "    <tr>\n",
              "      <th>24</th>\n",
              "      <td>0</td>\n",
              "      <td>68</td>\n",
              "      <td>66</td>\n",
              "      <td>1</td>\n",
              "      <td>0</td>\n",
              "      <td>10</td>\n",
              "      <td>2</td>\n",
              "      <td>8</td>\n",
              "      <td>24206.0</td>\n",
              "    </tr>\n",
              "    <tr>\n",
              "      <th>25</th>\n",
              "      <td>0</td>\n",
              "      <td>55</td>\n",
              "      <td>54</td>\n",
              "      <td>1</td>\n",
              "      <td>1</td>\n",
              "      <td>9</td>\n",
              "      <td>2</td>\n",
              "      <td>2</td>\n",
              "      <td>23091.2</td>\n",
              "    </tr>\n",
              "  </tbody>\n",
              "</table>\n",
              "</div>"
            ],
            "text/plain": [
              "    Accomodation_Type  Upper_Age  ...  Reco_Policy_Cat  Reco_Policy_Premium\n",
              "1                   0         69  ...               17              32204.8\n",
              "9                   0         41  ...               21              16934.4\n",
              "15                  0         46  ...               19              18333.0\n",
              "24                  0         68  ...                8              24206.0\n",
              "25                  0         55  ...                2              23091.2\n",
              "\n",
              "[5 rows x 9 columns]"
            ]
          },
          "metadata": {
            "tags": []
          },
          "execution_count": 93
        }
      ]
    },
    {
      "cell_type": "code",
      "metadata": {
        "id": "hH7NbuHQXbzq"
      },
      "source": [
        "test_individual_enc_dropped[['Lower_Age','Reco_Policy_Premium']] = scaler.fit_transform(test_individual_enc_dropped[['Lower_Age','Reco_Policy_Premium']])\r\n",
        "test_joint_enc_dropped[['Upper_Age','Lower_Age','Reco_Policy_Premium']] = scaler.fit_transform(test_joint_enc_dropped[['Upper_Age','Lower_Age','Reco_Policy_Premium']])"
      ],
      "execution_count": 110,
      "outputs": []
    },
    {
      "cell_type": "code",
      "metadata": {
        "id": "AXe4QGAVX2rU"
      },
      "source": [
        "test_individual_enc_dropped=pd.get_dummies(test_individual_enc_dropped,columns=['Accomodation_Type',\t'Health Indicator',\t'Holding_Policy_Duration',\t'Holding_Policy_Type',\t'Reco_Policy_Cat'],drop_first=True)\r\n",
        "test_joint_enc_dropped=pd.get_dummies(test_joint_enc_dropped,columns=['Accomodation_Type',\t'Health Indicator',\t'Holding_Policy_Duration',\t'Holding_Policy_Type',\t'Reco_Policy_Cat'],drop_first=True)\r\n"
      ],
      "execution_count": 95,
      "outputs": []
    },
    {
      "cell_type": "code",
      "metadata": {
        "id": "lUhdD_0hYYne"
      },
      "source": [
        "test_joint_id['Response']=clf_j.predict(test_joint_enc_dropped)"
      ],
      "execution_count": 98,
      "outputs": []
    },
    {
      "cell_type": "code",
      "metadata": {
        "colab": {
          "base_uri": "https://localhost:8080/"
        },
        "id": "x9rI8QEFZGmY",
        "outputId": "2d87dbcc-fa89-4f40-bb21-3c1be309d1cb"
      },
      "source": [
        "print(test_joint_id.shape,test_joint.shape)"
      ],
      "execution_count": 96,
      "outputs": [
        {
          "output_type": "stream",
          "text": [
            "(4464, 1) (4464, 10)\n"
          ],
          "name": "stdout"
        }
      ]
    },
    {
      "cell_type": "code",
      "metadata": {
        "id": "iOlpoQjnZi06"
      },
      "source": [
        "test_individual_id['Response']=clf.predict(test_individual_enc_dropped)"
      ],
      "execution_count": 100,
      "outputs": []
    },
    {
      "cell_type": "code",
      "metadata": {
        "id": "6atrXW4xZ5vN"
      },
      "source": [
        "df=[test_joint_id,test_individual_id]\r\n",
        "final=pd.concat(df)"
      ],
      "execution_count": 101,
      "outputs": []
    },
    {
      "cell_type": "code",
      "metadata": {
        "colab": {
          "base_uri": "https://localhost:8080/",
          "height": 204
        },
        "id": "TkbAIsaPaO07",
        "outputId": "0cd01072-ff4c-48bc-fb45-8cb5db356c75"
      },
      "source": [
        "final.head()"
      ],
      "execution_count": 102,
      "outputs": [
        {
          "output_type": "execute_result",
          "data": {
            "text/html": [
              "<div>\n",
              "<style scoped>\n",
              "    .dataframe tbody tr th:only-of-type {\n",
              "        vertical-align: middle;\n",
              "    }\n",
              "\n",
              "    .dataframe tbody tr th {\n",
              "        vertical-align: top;\n",
              "    }\n",
              "\n",
              "    .dataframe thead th {\n",
              "        text-align: right;\n",
              "    }\n",
              "</style>\n",
              "<table border=\"1\" class=\"dataframe\">\n",
              "  <thead>\n",
              "    <tr style=\"text-align: right;\">\n",
              "      <th></th>\n",
              "      <th>ID</th>\n",
              "      <th>Response</th>\n",
              "    </tr>\n",
              "  </thead>\n",
              "  <tbody>\n",
              "    <tr>\n",
              "      <th>1</th>\n",
              "      <td>50884</td>\n",
              "      <td>0</td>\n",
              "    </tr>\n",
              "    <tr>\n",
              "      <th>9</th>\n",
              "      <td>50892</td>\n",
              "      <td>1</td>\n",
              "    </tr>\n",
              "    <tr>\n",
              "      <th>15</th>\n",
              "      <td>50898</td>\n",
              "      <td>0</td>\n",
              "    </tr>\n",
              "    <tr>\n",
              "      <th>24</th>\n",
              "      <td>50907</td>\n",
              "      <td>0</td>\n",
              "    </tr>\n",
              "    <tr>\n",
              "      <th>25</th>\n",
              "      <td>50908</td>\n",
              "      <td>0</td>\n",
              "    </tr>\n",
              "  </tbody>\n",
              "</table>\n",
              "</div>"
            ],
            "text/plain": [
              "       ID  Response\n",
              "1   50884         0\n",
              "9   50892         1\n",
              "15  50898         0\n",
              "24  50907         0\n",
              "25  50908         0"
            ]
          },
          "metadata": {
            "tags": []
          },
          "execution_count": 102
        }
      ]
    },
    {
      "cell_type": "code",
      "metadata": {
        "colab": {
          "base_uri": "https://localhost:8080/",
          "height": 204
        },
        "id": "8EpOATfJaRqy",
        "outputId": "163e0c5c-633f-4e7a-a9b1-4b3a7e0dedb0"
      },
      "source": [
        "final=final.sort_values(by=['ID'])\r\n",
        "final.head()"
      ],
      "execution_count": 104,
      "outputs": [
        {
          "output_type": "execute_result",
          "data": {
            "text/html": [
              "<div>\n",
              "<style scoped>\n",
              "    .dataframe tbody tr th:only-of-type {\n",
              "        vertical-align: middle;\n",
              "    }\n",
              "\n",
              "    .dataframe tbody tr th {\n",
              "        vertical-align: top;\n",
              "    }\n",
              "\n",
              "    .dataframe thead th {\n",
              "        text-align: right;\n",
              "    }\n",
              "</style>\n",
              "<table border=\"1\" class=\"dataframe\">\n",
              "  <thead>\n",
              "    <tr style=\"text-align: right;\">\n",
              "      <th></th>\n",
              "      <th>ID</th>\n",
              "      <th>Response</th>\n",
              "    </tr>\n",
              "  </thead>\n",
              "  <tbody>\n",
              "    <tr>\n",
              "      <th>0</th>\n",
              "      <td>50883</td>\n",
              "      <td>0</td>\n",
              "    </tr>\n",
              "    <tr>\n",
              "      <th>1</th>\n",
              "      <td>50884</td>\n",
              "      <td>0</td>\n",
              "    </tr>\n",
              "    <tr>\n",
              "      <th>2</th>\n",
              "      <td>50885</td>\n",
              "      <td>0</td>\n",
              "    </tr>\n",
              "    <tr>\n",
              "      <th>3</th>\n",
              "      <td>50886</td>\n",
              "      <td>0</td>\n",
              "    </tr>\n",
              "    <tr>\n",
              "      <th>4</th>\n",
              "      <td>50887</td>\n",
              "      <td>0</td>\n",
              "    </tr>\n",
              "  </tbody>\n",
              "</table>\n",
              "</div>"
            ],
            "text/plain": [
              "      ID  Response\n",
              "0  50883         0\n",
              "1  50884         0\n",
              "2  50885         0\n",
              "3  50886         0\n",
              "4  50887         0"
            ]
          },
          "metadata": {
            "tags": []
          },
          "execution_count": 104
        }
      ]
    },
    {
      "cell_type": "code",
      "metadata": {
        "colab": {
          "base_uri": "https://localhost:8080/"
        },
        "id": "_UnT64gKakEA",
        "outputId": "a55195ce-857a-4a92-aa32-09e96ea06fd0"
      },
      "source": [
        "final.shape\r\n"
      ],
      "execution_count": 106,
      "outputs": [
        {
          "output_type": "execute_result",
          "data": {
            "text/plain": [
              "(21805, 2)"
            ]
          },
          "metadata": {
            "tags": []
          },
          "execution_count": 106
        }
      ]
    },
    {
      "cell_type": "code",
      "metadata": {
        "colab": {
          "base_uri": "https://localhost:8080/"
        },
        "id": "x9pV4a1Capj0",
        "outputId": "24c57ab5-0927-4293-d32e-d729c7471194"
      },
      "source": [
        "test.shape"
      ],
      "execution_count": 107,
      "outputs": [
        {
          "output_type": "execute_result",
          "data": {
            "text/plain": [
              "(21805, 13)"
            ]
          },
          "metadata": {
            "tags": []
          },
          "execution_count": 107
        }
      ]
    },
    {
      "cell_type": "code",
      "metadata": {
        "id": "SzpFrLzJauC-"
      },
      "source": [
        "final.to_csv('Output.csv',index=False)"
      ],
      "execution_count": 108,
      "outputs": []
    },
    {
      "cell_type": "code",
      "metadata": {
        "id": "yx4y5GHea_bx"
      },
      "source": [
        ""
      ],
      "execution_count": null,
      "outputs": []
    }
  ]
}